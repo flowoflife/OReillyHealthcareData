{
 "cells": [
  {
   "cell_type": "code",
   "execution_count": 1,
   "metadata": {
    "collapsed": false,
    "jupyter": {
     "outputs_hidden": false
    }
   },
   "outputs": [],
   "source": [
    "%matplotlib inline\n",
    "import pandas as pd\n",
    "import numpy as np\n",
    "from sklearn.decomposition import PCA\n",
    "from matplotlib import pyplot as plt"
   ]
  },
  {
   "cell_type": "markdown",
   "metadata": {},
   "source": [
    "# Read in data"
   ]
  },
  {
   "cell_type": "code",
   "execution_count": 2,
   "metadata": {
    "collapsed": false,
    "jupyter": {
     "outputs_hidden": false
    }
   },
   "outputs": [],
   "source": [
    "df = pd.read_csv('gene_expression.csv')"
   ]
  },
  {
   "cell_type": "code",
   "execution_count": 3,
   "metadata": {
    "collapsed": false,
    "jupyter": {
     "outputs_hidden": false
    }
   },
   "outputs": [],
   "source": [
    "df = df.drop(df.columns[0], 1)"
   ]
  },
  {
   "cell_type": "code",
   "execution_count": 4,
   "metadata": {
    "collapsed": false,
    "jupyter": {
     "outputs_hidden": false
    }
   },
   "outputs": [
    {
     "data": {
      "text/html": [
       "<div>\n",
       "<style scoped>\n",
       "    .dataframe tbody tr th:only-of-type {\n",
       "        vertical-align: middle;\n",
       "    }\n",
       "\n",
       "    .dataframe tbody tr th {\n",
       "        vertical-align: top;\n",
       "    }\n",
       "\n",
       "    .dataframe thead th {\n",
       "        text-align: right;\n",
       "    }\n",
       "</style>\n",
       "<table border=\"1\" class=\"dataframe\">\n",
       "  <thead>\n",
       "    <tr style=\"text-align: right;\">\n",
       "      <th></th>\n",
       "      <th>azc81</th>\n",
       "      <th>bdb223</th>\n",
       "      <th>bsj154</th>\n",
       "      <th>bwr202</th>\n",
       "      <th>drs203</th>\n",
       "      <th>eno150</th>\n",
       "      <th>hgo132</th>\n",
       "      <th>jem139</th>\n",
       "      <th>mbd135</th>\n",
       "      <th>nby169</th>\n",
       "      <th>nfb200</th>\n",
       "      <th>npo218</th>\n",
       "      <th>ofz208</th>\n",
       "      <th>qmj73</th>\n",
       "      <th>rgm35</th>\n",
       "      <th>rva241</th>\n",
       "      <th>wdb83</th>\n",
       "      <th>yfm28</th>\n",
       "    </tr>\n",
       "  </thead>\n",
       "  <tbody>\n",
       "    <tr>\n",
       "      <th>0</th>\n",
       "      <td>0.548211</td>\n",
       "      <td>0.120231</td>\n",
       "      <td>0.055537</td>\n",
       "      <td>0.110432</td>\n",
       "      <td>0.960696</td>\n",
       "      <td>0.759469</td>\n",
       "      <td>0.874050</td>\n",
       "      <td>0.807593</td>\n",
       "      <td>0.663830</td>\n",
       "      <td>0.428409</td>\n",
       "      <td>0.912917</td>\n",
       "      <td>0.940543</td>\n",
       "      <td>0.744947</td>\n",
       "      <td>0.261574</td>\n",
       "      <td>0.783734</td>\n",
       "      <td>0.934044</td>\n",
       "      <td>0.000000</td>\n",
       "      <td>0.737642</td>\n",
       "    </tr>\n",
       "    <tr>\n",
       "      <th>1</th>\n",
       "      <td>0.111383</td>\n",
       "      <td>0.353474</td>\n",
       "      <td>0.051218</td>\n",
       "      <td>0.003683</td>\n",
       "      <td>0.939109</td>\n",
       "      <td>0.872921</td>\n",
       "      <td>0.900342</td>\n",
       "      <td>0.886981</td>\n",
       "      <td>0.680817</td>\n",
       "      <td>0.722386</td>\n",
       "      <td>0.793601</td>\n",
       "      <td>0.848213</td>\n",
       "      <td>0.779071</td>\n",
       "      <td>0.243231</td>\n",
       "      <td>0.338945</td>\n",
       "      <td>0.912718</td>\n",
       "      <td>0.000000</td>\n",
       "      <td>0.926540</td>\n",
       "    </tr>\n",
       "    <tr>\n",
       "      <th>2</th>\n",
       "      <td>0.459971</td>\n",
       "      <td>0.594186</td>\n",
       "      <td>1.000000</td>\n",
       "      <td>0.946645</td>\n",
       "      <td>0.399635</td>\n",
       "      <td>0.359502</td>\n",
       "      <td>0.342766</td>\n",
       "      <td>0.335695</td>\n",
       "      <td>0.544554</td>\n",
       "      <td>0.689002</td>\n",
       "      <td>0.364604</td>\n",
       "      <td>0.946927</td>\n",
       "      <td>0.886632</td>\n",
       "      <td>0.815887</td>\n",
       "      <td>0.555462</td>\n",
       "      <td>0.405912</td>\n",
       "      <td>0.700435</td>\n",
       "      <td>0.396066</td>\n",
       "    </tr>\n",
       "    <tr>\n",
       "      <th>3</th>\n",
       "      <td>0.099305</td>\n",
       "      <td>0.378251</td>\n",
       "      <td>0.591589</td>\n",
       "      <td>0.619087</td>\n",
       "      <td>0.901629</td>\n",
       "      <td>0.984772</td>\n",
       "      <td>0.802375</td>\n",
       "      <td>1.000000</td>\n",
       "      <td>0.270841</td>\n",
       "      <td>0.298178</td>\n",
       "      <td>0.434799</td>\n",
       "      <td>0.395561</td>\n",
       "      <td>0.077296</td>\n",
       "      <td>0.248131</td>\n",
       "      <td>0.274456</td>\n",
       "      <td>0.885201</td>\n",
       "      <td>0.476311</td>\n",
       "      <td>0.932371</td>\n",
       "    </tr>\n",
       "    <tr>\n",
       "      <th>4</th>\n",
       "      <td>0.460037</td>\n",
       "      <td>0.387290</td>\n",
       "      <td>0.829306</td>\n",
       "      <td>0.955035</td>\n",
       "      <td>0.464486</td>\n",
       "      <td>0.745253</td>\n",
       "      <td>0.637082</td>\n",
       "      <td>0.816490</td>\n",
       "      <td>0.955152</td>\n",
       "      <td>0.086996</td>\n",
       "      <td>0.751228</td>\n",
       "      <td>0.104130</td>\n",
       "      <td>0.473013</td>\n",
       "      <td>0.645816</td>\n",
       "      <td>0.123011</td>\n",
       "      <td>0.467099</td>\n",
       "      <td>1.000000</td>\n",
       "      <td>0.888156</td>\n",
       "    </tr>\n",
       "  </tbody>\n",
       "</table>\n",
       "</div>"
      ],
      "text/plain": [
       "      azc81    bdb223    bsj154    bwr202    drs203    eno150    hgo132  \\\n",
       "0  0.548211  0.120231  0.055537  0.110432  0.960696  0.759469  0.874050   \n",
       "1  0.111383  0.353474  0.051218  0.003683  0.939109  0.872921  0.900342   \n",
       "2  0.459971  0.594186  1.000000  0.946645  0.399635  0.359502  0.342766   \n",
       "3  0.099305  0.378251  0.591589  0.619087  0.901629  0.984772  0.802375   \n",
       "4  0.460037  0.387290  0.829306  0.955035  0.464486  0.745253  0.637082   \n",
       "\n",
       "     jem139    mbd135    nby169    nfb200    npo218    ofz208     qmj73  \\\n",
       "0  0.807593  0.663830  0.428409  0.912917  0.940543  0.744947  0.261574   \n",
       "1  0.886981  0.680817  0.722386  0.793601  0.848213  0.779071  0.243231   \n",
       "2  0.335695  0.544554  0.689002  0.364604  0.946927  0.886632  0.815887   \n",
       "3  1.000000  0.270841  0.298178  0.434799  0.395561  0.077296  0.248131   \n",
       "4  0.816490  0.955152  0.086996  0.751228  0.104130  0.473013  0.645816   \n",
       "\n",
       "      rgm35    rva241     wdb83     yfm28  \n",
       "0  0.783734  0.934044  0.000000  0.737642  \n",
       "1  0.338945  0.912718  0.000000  0.926540  \n",
       "2  0.555462  0.405912  0.700435  0.396066  \n",
       "3  0.274456  0.885201  0.476311  0.932371  \n",
       "4  0.123011  0.467099  1.000000  0.888156  "
      ]
     },
     "execution_count": 4,
     "metadata": {},
     "output_type": "execute_result"
    }
   ],
   "source": [
    "df.head()"
   ]
  },
  {
   "cell_type": "code",
   "execution_count": 5,
   "metadata": {
    "collapsed": false,
    "jupyter": {
     "outputs_hidden": false
    }
   },
   "outputs": [
    {
     "data": {
      "text/plain": [
       "array([[<AxesSubplot:xlabel='azc81', ylabel='azc81'>,\n",
       "        <AxesSubplot:xlabel='bdb223', ylabel='azc81'>,\n",
       "        <AxesSubplot:xlabel='bsj154', ylabel='azc81'>,\n",
       "        <AxesSubplot:xlabel='bwr202', ylabel='azc81'>,\n",
       "        <AxesSubplot:xlabel='drs203', ylabel='azc81'>,\n",
       "        <AxesSubplot:xlabel='eno150', ylabel='azc81'>,\n",
       "        <AxesSubplot:xlabel='hgo132', ylabel='azc81'>,\n",
       "        <AxesSubplot:xlabel='jem139', ylabel='azc81'>,\n",
       "        <AxesSubplot:xlabel='mbd135', ylabel='azc81'>,\n",
       "        <AxesSubplot:xlabel='nby169', ylabel='azc81'>,\n",
       "        <AxesSubplot:xlabel='nfb200', ylabel='azc81'>,\n",
       "        <AxesSubplot:xlabel='npo218', ylabel='azc81'>,\n",
       "        <AxesSubplot:xlabel='ofz208', ylabel='azc81'>,\n",
       "        <AxesSubplot:xlabel='qmj73', ylabel='azc81'>,\n",
       "        <AxesSubplot:xlabel='rgm35', ylabel='azc81'>,\n",
       "        <AxesSubplot:xlabel='rva241', ylabel='azc81'>,\n",
       "        <AxesSubplot:xlabel='wdb83', ylabel='azc81'>,\n",
       "        <AxesSubplot:xlabel='yfm28', ylabel='azc81'>],\n",
       "       [<AxesSubplot:xlabel='azc81', ylabel='bdb223'>,\n",
       "        <AxesSubplot:xlabel='bdb223', ylabel='bdb223'>,\n",
       "        <AxesSubplot:xlabel='bsj154', ylabel='bdb223'>,\n",
       "        <AxesSubplot:xlabel='bwr202', ylabel='bdb223'>,\n",
       "        <AxesSubplot:xlabel='drs203', ylabel='bdb223'>,\n",
       "        <AxesSubplot:xlabel='eno150', ylabel='bdb223'>,\n",
       "        <AxesSubplot:xlabel='hgo132', ylabel='bdb223'>,\n",
       "        <AxesSubplot:xlabel='jem139', ylabel='bdb223'>,\n",
       "        <AxesSubplot:xlabel='mbd135', ylabel='bdb223'>,\n",
       "        <AxesSubplot:xlabel='nby169', ylabel='bdb223'>,\n",
       "        <AxesSubplot:xlabel='nfb200', ylabel='bdb223'>,\n",
       "        <AxesSubplot:xlabel='npo218', ylabel='bdb223'>,\n",
       "        <AxesSubplot:xlabel='ofz208', ylabel='bdb223'>,\n",
       "        <AxesSubplot:xlabel='qmj73', ylabel='bdb223'>,\n",
       "        <AxesSubplot:xlabel='rgm35', ylabel='bdb223'>,\n",
       "        <AxesSubplot:xlabel='rva241', ylabel='bdb223'>,\n",
       "        <AxesSubplot:xlabel='wdb83', ylabel='bdb223'>,\n",
       "        <AxesSubplot:xlabel='yfm28', ylabel='bdb223'>],\n",
       "       [<AxesSubplot:xlabel='azc81', ylabel='bsj154'>,\n",
       "        <AxesSubplot:xlabel='bdb223', ylabel='bsj154'>,\n",
       "        <AxesSubplot:xlabel='bsj154', ylabel='bsj154'>,\n",
       "        <AxesSubplot:xlabel='bwr202', ylabel='bsj154'>,\n",
       "        <AxesSubplot:xlabel='drs203', ylabel='bsj154'>,\n",
       "        <AxesSubplot:xlabel='eno150', ylabel='bsj154'>,\n",
       "        <AxesSubplot:xlabel='hgo132', ylabel='bsj154'>,\n",
       "        <AxesSubplot:xlabel='jem139', ylabel='bsj154'>,\n",
       "        <AxesSubplot:xlabel='mbd135', ylabel='bsj154'>,\n",
       "        <AxesSubplot:xlabel='nby169', ylabel='bsj154'>,\n",
       "        <AxesSubplot:xlabel='nfb200', ylabel='bsj154'>,\n",
       "        <AxesSubplot:xlabel='npo218', ylabel='bsj154'>,\n",
       "        <AxesSubplot:xlabel='ofz208', ylabel='bsj154'>,\n",
       "        <AxesSubplot:xlabel='qmj73', ylabel='bsj154'>,\n",
       "        <AxesSubplot:xlabel='rgm35', ylabel='bsj154'>,\n",
       "        <AxesSubplot:xlabel='rva241', ylabel='bsj154'>,\n",
       "        <AxesSubplot:xlabel='wdb83', ylabel='bsj154'>,\n",
       "        <AxesSubplot:xlabel='yfm28', ylabel='bsj154'>],\n",
       "       [<AxesSubplot:xlabel='azc81', ylabel='bwr202'>,\n",
       "        <AxesSubplot:xlabel='bdb223', ylabel='bwr202'>,\n",
       "        <AxesSubplot:xlabel='bsj154', ylabel='bwr202'>,\n",
       "        <AxesSubplot:xlabel='bwr202', ylabel='bwr202'>,\n",
       "        <AxesSubplot:xlabel='drs203', ylabel='bwr202'>,\n",
       "        <AxesSubplot:xlabel='eno150', ylabel='bwr202'>,\n",
       "        <AxesSubplot:xlabel='hgo132', ylabel='bwr202'>,\n",
       "        <AxesSubplot:xlabel='jem139', ylabel='bwr202'>,\n",
       "        <AxesSubplot:xlabel='mbd135', ylabel='bwr202'>,\n",
       "        <AxesSubplot:xlabel='nby169', ylabel='bwr202'>,\n",
       "        <AxesSubplot:xlabel='nfb200', ylabel='bwr202'>,\n",
       "        <AxesSubplot:xlabel='npo218', ylabel='bwr202'>,\n",
       "        <AxesSubplot:xlabel='ofz208', ylabel='bwr202'>,\n",
       "        <AxesSubplot:xlabel='qmj73', ylabel='bwr202'>,\n",
       "        <AxesSubplot:xlabel='rgm35', ylabel='bwr202'>,\n",
       "        <AxesSubplot:xlabel='rva241', ylabel='bwr202'>,\n",
       "        <AxesSubplot:xlabel='wdb83', ylabel='bwr202'>,\n",
       "        <AxesSubplot:xlabel='yfm28', ylabel='bwr202'>],\n",
       "       [<AxesSubplot:xlabel='azc81', ylabel='drs203'>,\n",
       "        <AxesSubplot:xlabel='bdb223', ylabel='drs203'>,\n",
       "        <AxesSubplot:xlabel='bsj154', ylabel='drs203'>,\n",
       "        <AxesSubplot:xlabel='bwr202', ylabel='drs203'>,\n",
       "        <AxesSubplot:xlabel='drs203', ylabel='drs203'>,\n",
       "        <AxesSubplot:xlabel='eno150', ylabel='drs203'>,\n",
       "        <AxesSubplot:xlabel='hgo132', ylabel='drs203'>,\n",
       "        <AxesSubplot:xlabel='jem139', ylabel='drs203'>,\n",
       "        <AxesSubplot:xlabel='mbd135', ylabel='drs203'>,\n",
       "        <AxesSubplot:xlabel='nby169', ylabel='drs203'>,\n",
       "        <AxesSubplot:xlabel='nfb200', ylabel='drs203'>,\n",
       "        <AxesSubplot:xlabel='npo218', ylabel='drs203'>,\n",
       "        <AxesSubplot:xlabel='ofz208', ylabel='drs203'>,\n",
       "        <AxesSubplot:xlabel='qmj73', ylabel='drs203'>,\n",
       "        <AxesSubplot:xlabel='rgm35', ylabel='drs203'>,\n",
       "        <AxesSubplot:xlabel='rva241', ylabel='drs203'>,\n",
       "        <AxesSubplot:xlabel='wdb83', ylabel='drs203'>,\n",
       "        <AxesSubplot:xlabel='yfm28', ylabel='drs203'>],\n",
       "       [<AxesSubplot:xlabel='azc81', ylabel='eno150'>,\n",
       "        <AxesSubplot:xlabel='bdb223', ylabel='eno150'>,\n",
       "        <AxesSubplot:xlabel='bsj154', ylabel='eno150'>,\n",
       "        <AxesSubplot:xlabel='bwr202', ylabel='eno150'>,\n",
       "        <AxesSubplot:xlabel='drs203', ylabel='eno150'>,\n",
       "        <AxesSubplot:xlabel='eno150', ylabel='eno150'>,\n",
       "        <AxesSubplot:xlabel='hgo132', ylabel='eno150'>,\n",
       "        <AxesSubplot:xlabel='jem139', ylabel='eno150'>,\n",
       "        <AxesSubplot:xlabel='mbd135', ylabel='eno150'>,\n",
       "        <AxesSubplot:xlabel='nby169', ylabel='eno150'>,\n",
       "        <AxesSubplot:xlabel='nfb200', ylabel='eno150'>,\n",
       "        <AxesSubplot:xlabel='npo218', ylabel='eno150'>,\n",
       "        <AxesSubplot:xlabel='ofz208', ylabel='eno150'>,\n",
       "        <AxesSubplot:xlabel='qmj73', ylabel='eno150'>,\n",
       "        <AxesSubplot:xlabel='rgm35', ylabel='eno150'>,\n",
       "        <AxesSubplot:xlabel='rva241', ylabel='eno150'>,\n",
       "        <AxesSubplot:xlabel='wdb83', ylabel='eno150'>,\n",
       "        <AxesSubplot:xlabel='yfm28', ylabel='eno150'>],\n",
       "       [<AxesSubplot:xlabel='azc81', ylabel='hgo132'>,\n",
       "        <AxesSubplot:xlabel='bdb223', ylabel='hgo132'>,\n",
       "        <AxesSubplot:xlabel='bsj154', ylabel='hgo132'>,\n",
       "        <AxesSubplot:xlabel='bwr202', ylabel='hgo132'>,\n",
       "        <AxesSubplot:xlabel='drs203', ylabel='hgo132'>,\n",
       "        <AxesSubplot:xlabel='eno150', ylabel='hgo132'>,\n",
       "        <AxesSubplot:xlabel='hgo132', ylabel='hgo132'>,\n",
       "        <AxesSubplot:xlabel='jem139', ylabel='hgo132'>,\n",
       "        <AxesSubplot:xlabel='mbd135', ylabel='hgo132'>,\n",
       "        <AxesSubplot:xlabel='nby169', ylabel='hgo132'>,\n",
       "        <AxesSubplot:xlabel='nfb200', ylabel='hgo132'>,\n",
       "        <AxesSubplot:xlabel='npo218', ylabel='hgo132'>,\n",
       "        <AxesSubplot:xlabel='ofz208', ylabel='hgo132'>,\n",
       "        <AxesSubplot:xlabel='qmj73', ylabel='hgo132'>,\n",
       "        <AxesSubplot:xlabel='rgm35', ylabel='hgo132'>,\n",
       "        <AxesSubplot:xlabel='rva241', ylabel='hgo132'>,\n",
       "        <AxesSubplot:xlabel='wdb83', ylabel='hgo132'>,\n",
       "        <AxesSubplot:xlabel='yfm28', ylabel='hgo132'>],\n",
       "       [<AxesSubplot:xlabel='azc81', ylabel='jem139'>,\n",
       "        <AxesSubplot:xlabel='bdb223', ylabel='jem139'>,\n",
       "        <AxesSubplot:xlabel='bsj154', ylabel='jem139'>,\n",
       "        <AxesSubplot:xlabel='bwr202', ylabel='jem139'>,\n",
       "        <AxesSubplot:xlabel='drs203', ylabel='jem139'>,\n",
       "        <AxesSubplot:xlabel='eno150', ylabel='jem139'>,\n",
       "        <AxesSubplot:xlabel='hgo132', ylabel='jem139'>,\n",
       "        <AxesSubplot:xlabel='jem139', ylabel='jem139'>,\n",
       "        <AxesSubplot:xlabel='mbd135', ylabel='jem139'>,\n",
       "        <AxesSubplot:xlabel='nby169', ylabel='jem139'>,\n",
       "        <AxesSubplot:xlabel='nfb200', ylabel='jem139'>,\n",
       "        <AxesSubplot:xlabel='npo218', ylabel='jem139'>,\n",
       "        <AxesSubplot:xlabel='ofz208', ylabel='jem139'>,\n",
       "        <AxesSubplot:xlabel='qmj73', ylabel='jem139'>,\n",
       "        <AxesSubplot:xlabel='rgm35', ylabel='jem139'>,\n",
       "        <AxesSubplot:xlabel='rva241', ylabel='jem139'>,\n",
       "        <AxesSubplot:xlabel='wdb83', ylabel='jem139'>,\n",
       "        <AxesSubplot:xlabel='yfm28', ylabel='jem139'>],\n",
       "       [<AxesSubplot:xlabel='azc81', ylabel='mbd135'>,\n",
       "        <AxesSubplot:xlabel='bdb223', ylabel='mbd135'>,\n",
       "        <AxesSubplot:xlabel='bsj154', ylabel='mbd135'>,\n",
       "        <AxesSubplot:xlabel='bwr202', ylabel='mbd135'>,\n",
       "        <AxesSubplot:xlabel='drs203', ylabel='mbd135'>,\n",
       "        <AxesSubplot:xlabel='eno150', ylabel='mbd135'>,\n",
       "        <AxesSubplot:xlabel='hgo132', ylabel='mbd135'>,\n",
       "        <AxesSubplot:xlabel='jem139', ylabel='mbd135'>,\n",
       "        <AxesSubplot:xlabel='mbd135', ylabel='mbd135'>,\n",
       "        <AxesSubplot:xlabel='nby169', ylabel='mbd135'>,\n",
       "        <AxesSubplot:xlabel='nfb200', ylabel='mbd135'>,\n",
       "        <AxesSubplot:xlabel='npo218', ylabel='mbd135'>,\n",
       "        <AxesSubplot:xlabel='ofz208', ylabel='mbd135'>,\n",
       "        <AxesSubplot:xlabel='qmj73', ylabel='mbd135'>,\n",
       "        <AxesSubplot:xlabel='rgm35', ylabel='mbd135'>,\n",
       "        <AxesSubplot:xlabel='rva241', ylabel='mbd135'>,\n",
       "        <AxesSubplot:xlabel='wdb83', ylabel='mbd135'>,\n",
       "        <AxesSubplot:xlabel='yfm28', ylabel='mbd135'>],\n",
       "       [<AxesSubplot:xlabel='azc81', ylabel='nby169'>,\n",
       "        <AxesSubplot:xlabel='bdb223', ylabel='nby169'>,\n",
       "        <AxesSubplot:xlabel='bsj154', ylabel='nby169'>,\n",
       "        <AxesSubplot:xlabel='bwr202', ylabel='nby169'>,\n",
       "        <AxesSubplot:xlabel='drs203', ylabel='nby169'>,\n",
       "        <AxesSubplot:xlabel='eno150', ylabel='nby169'>,\n",
       "        <AxesSubplot:xlabel='hgo132', ylabel='nby169'>,\n",
       "        <AxesSubplot:xlabel='jem139', ylabel='nby169'>,\n",
       "        <AxesSubplot:xlabel='mbd135', ylabel='nby169'>,\n",
       "        <AxesSubplot:xlabel='nby169', ylabel='nby169'>,\n",
       "        <AxesSubplot:xlabel='nfb200', ylabel='nby169'>,\n",
       "        <AxesSubplot:xlabel='npo218', ylabel='nby169'>,\n",
       "        <AxesSubplot:xlabel='ofz208', ylabel='nby169'>,\n",
       "        <AxesSubplot:xlabel='qmj73', ylabel='nby169'>,\n",
       "        <AxesSubplot:xlabel='rgm35', ylabel='nby169'>,\n",
       "        <AxesSubplot:xlabel='rva241', ylabel='nby169'>,\n",
       "        <AxesSubplot:xlabel='wdb83', ylabel='nby169'>,\n",
       "        <AxesSubplot:xlabel='yfm28', ylabel='nby169'>],\n",
       "       [<AxesSubplot:xlabel='azc81', ylabel='nfb200'>,\n",
       "        <AxesSubplot:xlabel='bdb223', ylabel='nfb200'>,\n",
       "        <AxesSubplot:xlabel='bsj154', ylabel='nfb200'>,\n",
       "        <AxesSubplot:xlabel='bwr202', ylabel='nfb200'>,\n",
       "        <AxesSubplot:xlabel='drs203', ylabel='nfb200'>,\n",
       "        <AxesSubplot:xlabel='eno150', ylabel='nfb200'>,\n",
       "        <AxesSubplot:xlabel='hgo132', ylabel='nfb200'>,\n",
       "        <AxesSubplot:xlabel='jem139', ylabel='nfb200'>,\n",
       "        <AxesSubplot:xlabel='mbd135', ylabel='nfb200'>,\n",
       "        <AxesSubplot:xlabel='nby169', ylabel='nfb200'>,\n",
       "        <AxesSubplot:xlabel='nfb200', ylabel='nfb200'>,\n",
       "        <AxesSubplot:xlabel='npo218', ylabel='nfb200'>,\n",
       "        <AxesSubplot:xlabel='ofz208', ylabel='nfb200'>,\n",
       "        <AxesSubplot:xlabel='qmj73', ylabel='nfb200'>,\n",
       "        <AxesSubplot:xlabel='rgm35', ylabel='nfb200'>,\n",
       "        <AxesSubplot:xlabel='rva241', ylabel='nfb200'>,\n",
       "        <AxesSubplot:xlabel='wdb83', ylabel='nfb200'>,\n",
       "        <AxesSubplot:xlabel='yfm28', ylabel='nfb200'>],\n",
       "       [<AxesSubplot:xlabel='azc81', ylabel='npo218'>,\n",
       "        <AxesSubplot:xlabel='bdb223', ylabel='npo218'>,\n",
       "        <AxesSubplot:xlabel='bsj154', ylabel='npo218'>,\n",
       "        <AxesSubplot:xlabel='bwr202', ylabel='npo218'>,\n",
       "        <AxesSubplot:xlabel='drs203', ylabel='npo218'>,\n",
       "        <AxesSubplot:xlabel='eno150', ylabel='npo218'>,\n",
       "        <AxesSubplot:xlabel='hgo132', ylabel='npo218'>,\n",
       "        <AxesSubplot:xlabel='jem139', ylabel='npo218'>,\n",
       "        <AxesSubplot:xlabel='mbd135', ylabel='npo218'>,\n",
       "        <AxesSubplot:xlabel='nby169', ylabel='npo218'>,\n",
       "        <AxesSubplot:xlabel='nfb200', ylabel='npo218'>,\n",
       "        <AxesSubplot:xlabel='npo218', ylabel='npo218'>,\n",
       "        <AxesSubplot:xlabel='ofz208', ylabel='npo218'>,\n",
       "        <AxesSubplot:xlabel='qmj73', ylabel='npo218'>,\n",
       "        <AxesSubplot:xlabel='rgm35', ylabel='npo218'>,\n",
       "        <AxesSubplot:xlabel='rva241', ylabel='npo218'>,\n",
       "        <AxesSubplot:xlabel='wdb83', ylabel='npo218'>,\n",
       "        <AxesSubplot:xlabel='yfm28', ylabel='npo218'>],\n",
       "       [<AxesSubplot:xlabel='azc81', ylabel='ofz208'>,\n",
       "        <AxesSubplot:xlabel='bdb223', ylabel='ofz208'>,\n",
       "        <AxesSubplot:xlabel='bsj154', ylabel='ofz208'>,\n",
       "        <AxesSubplot:xlabel='bwr202', ylabel='ofz208'>,\n",
       "        <AxesSubplot:xlabel='drs203', ylabel='ofz208'>,\n",
       "        <AxesSubplot:xlabel='eno150', ylabel='ofz208'>,\n",
       "        <AxesSubplot:xlabel='hgo132', ylabel='ofz208'>,\n",
       "        <AxesSubplot:xlabel='jem139', ylabel='ofz208'>,\n",
       "        <AxesSubplot:xlabel='mbd135', ylabel='ofz208'>,\n",
       "        <AxesSubplot:xlabel='nby169', ylabel='ofz208'>,\n",
       "        <AxesSubplot:xlabel='nfb200', ylabel='ofz208'>,\n",
       "        <AxesSubplot:xlabel='npo218', ylabel='ofz208'>,\n",
       "        <AxesSubplot:xlabel='ofz208', ylabel='ofz208'>,\n",
       "        <AxesSubplot:xlabel='qmj73', ylabel='ofz208'>,\n",
       "        <AxesSubplot:xlabel='rgm35', ylabel='ofz208'>,\n",
       "        <AxesSubplot:xlabel='rva241', ylabel='ofz208'>,\n",
       "        <AxesSubplot:xlabel='wdb83', ylabel='ofz208'>,\n",
       "        <AxesSubplot:xlabel='yfm28', ylabel='ofz208'>],\n",
       "       [<AxesSubplot:xlabel='azc81', ylabel='qmj73'>,\n",
       "        <AxesSubplot:xlabel='bdb223', ylabel='qmj73'>,\n",
       "        <AxesSubplot:xlabel='bsj154', ylabel='qmj73'>,\n",
       "        <AxesSubplot:xlabel='bwr202', ylabel='qmj73'>,\n",
       "        <AxesSubplot:xlabel='drs203', ylabel='qmj73'>,\n",
       "        <AxesSubplot:xlabel='eno150', ylabel='qmj73'>,\n",
       "        <AxesSubplot:xlabel='hgo132', ylabel='qmj73'>,\n",
       "        <AxesSubplot:xlabel='jem139', ylabel='qmj73'>,\n",
       "        <AxesSubplot:xlabel='mbd135', ylabel='qmj73'>,\n",
       "        <AxesSubplot:xlabel='nby169', ylabel='qmj73'>,\n",
       "        <AxesSubplot:xlabel='nfb200', ylabel='qmj73'>,\n",
       "        <AxesSubplot:xlabel='npo218', ylabel='qmj73'>,\n",
       "        <AxesSubplot:xlabel='ofz208', ylabel='qmj73'>,\n",
       "        <AxesSubplot:xlabel='qmj73', ylabel='qmj73'>,\n",
       "        <AxesSubplot:xlabel='rgm35', ylabel='qmj73'>,\n",
       "        <AxesSubplot:xlabel='rva241', ylabel='qmj73'>,\n",
       "        <AxesSubplot:xlabel='wdb83', ylabel='qmj73'>,\n",
       "        <AxesSubplot:xlabel='yfm28', ylabel='qmj73'>],\n",
       "       [<AxesSubplot:xlabel='azc81', ylabel='rgm35'>,\n",
       "        <AxesSubplot:xlabel='bdb223', ylabel='rgm35'>,\n",
       "        <AxesSubplot:xlabel='bsj154', ylabel='rgm35'>,\n",
       "        <AxesSubplot:xlabel='bwr202', ylabel='rgm35'>,\n",
       "        <AxesSubplot:xlabel='drs203', ylabel='rgm35'>,\n",
       "        <AxesSubplot:xlabel='eno150', ylabel='rgm35'>,\n",
       "        <AxesSubplot:xlabel='hgo132', ylabel='rgm35'>,\n",
       "        <AxesSubplot:xlabel='jem139', ylabel='rgm35'>,\n",
       "        <AxesSubplot:xlabel='mbd135', ylabel='rgm35'>,\n",
       "        <AxesSubplot:xlabel='nby169', ylabel='rgm35'>,\n",
       "        <AxesSubplot:xlabel='nfb200', ylabel='rgm35'>,\n",
       "        <AxesSubplot:xlabel='npo218', ylabel='rgm35'>,\n",
       "        <AxesSubplot:xlabel='ofz208', ylabel='rgm35'>,\n",
       "        <AxesSubplot:xlabel='qmj73', ylabel='rgm35'>,\n",
       "        <AxesSubplot:xlabel='rgm35', ylabel='rgm35'>,\n",
       "        <AxesSubplot:xlabel='rva241', ylabel='rgm35'>,\n",
       "        <AxesSubplot:xlabel='wdb83', ylabel='rgm35'>,\n",
       "        <AxesSubplot:xlabel='yfm28', ylabel='rgm35'>],\n",
       "       [<AxesSubplot:xlabel='azc81', ylabel='rva241'>,\n",
       "        <AxesSubplot:xlabel='bdb223', ylabel='rva241'>,\n",
       "        <AxesSubplot:xlabel='bsj154', ylabel='rva241'>,\n",
       "        <AxesSubplot:xlabel='bwr202', ylabel='rva241'>,\n",
       "        <AxesSubplot:xlabel='drs203', ylabel='rva241'>,\n",
       "        <AxesSubplot:xlabel='eno150', ylabel='rva241'>,\n",
       "        <AxesSubplot:xlabel='hgo132', ylabel='rva241'>,\n",
       "        <AxesSubplot:xlabel='jem139', ylabel='rva241'>,\n",
       "        <AxesSubplot:xlabel='mbd135', ylabel='rva241'>,\n",
       "        <AxesSubplot:xlabel='nby169', ylabel='rva241'>,\n",
       "        <AxesSubplot:xlabel='nfb200', ylabel='rva241'>,\n",
       "        <AxesSubplot:xlabel='npo218', ylabel='rva241'>,\n",
       "        <AxesSubplot:xlabel='ofz208', ylabel='rva241'>,\n",
       "        <AxesSubplot:xlabel='qmj73', ylabel='rva241'>,\n",
       "        <AxesSubplot:xlabel='rgm35', ylabel='rva241'>,\n",
       "        <AxesSubplot:xlabel='rva241', ylabel='rva241'>,\n",
       "        <AxesSubplot:xlabel='wdb83', ylabel='rva241'>,\n",
       "        <AxesSubplot:xlabel='yfm28', ylabel='rva241'>],\n",
       "       [<AxesSubplot:xlabel='azc81', ylabel='wdb83'>,\n",
       "        <AxesSubplot:xlabel='bdb223', ylabel='wdb83'>,\n",
       "        <AxesSubplot:xlabel='bsj154', ylabel='wdb83'>,\n",
       "        <AxesSubplot:xlabel='bwr202', ylabel='wdb83'>,\n",
       "        <AxesSubplot:xlabel='drs203', ylabel='wdb83'>,\n",
       "        <AxesSubplot:xlabel='eno150', ylabel='wdb83'>,\n",
       "        <AxesSubplot:xlabel='hgo132', ylabel='wdb83'>,\n",
       "        <AxesSubplot:xlabel='jem139', ylabel='wdb83'>,\n",
       "        <AxesSubplot:xlabel='mbd135', ylabel='wdb83'>,\n",
       "        <AxesSubplot:xlabel='nby169', ylabel='wdb83'>,\n",
       "        <AxesSubplot:xlabel='nfb200', ylabel='wdb83'>,\n",
       "        <AxesSubplot:xlabel='npo218', ylabel='wdb83'>,\n",
       "        <AxesSubplot:xlabel='ofz208', ylabel='wdb83'>,\n",
       "        <AxesSubplot:xlabel='qmj73', ylabel='wdb83'>,\n",
       "        <AxesSubplot:xlabel='rgm35', ylabel='wdb83'>,\n",
       "        <AxesSubplot:xlabel='rva241', ylabel='wdb83'>,\n",
       "        <AxesSubplot:xlabel='wdb83', ylabel='wdb83'>,\n",
       "        <AxesSubplot:xlabel='yfm28', ylabel='wdb83'>],\n",
       "       [<AxesSubplot:xlabel='azc81', ylabel='yfm28'>,\n",
       "        <AxesSubplot:xlabel='bdb223', ylabel='yfm28'>,\n",
       "        <AxesSubplot:xlabel='bsj154', ylabel='yfm28'>,\n",
       "        <AxesSubplot:xlabel='bwr202', ylabel='yfm28'>,\n",
       "        <AxesSubplot:xlabel='drs203', ylabel='yfm28'>,\n",
       "        <AxesSubplot:xlabel='eno150', ylabel='yfm28'>,\n",
       "        <AxesSubplot:xlabel='hgo132', ylabel='yfm28'>,\n",
       "        <AxesSubplot:xlabel='jem139', ylabel='yfm28'>,\n",
       "        <AxesSubplot:xlabel='mbd135', ylabel='yfm28'>,\n",
       "        <AxesSubplot:xlabel='nby169', ylabel='yfm28'>,\n",
       "        <AxesSubplot:xlabel='nfb200', ylabel='yfm28'>,\n",
       "        <AxesSubplot:xlabel='npo218', ylabel='yfm28'>,\n",
       "        <AxesSubplot:xlabel='ofz208', ylabel='yfm28'>,\n",
       "        <AxesSubplot:xlabel='qmj73', ylabel='yfm28'>,\n",
       "        <AxesSubplot:xlabel='rgm35', ylabel='yfm28'>,\n",
       "        <AxesSubplot:xlabel='rva241', ylabel='yfm28'>,\n",
       "        <AxesSubplot:xlabel='wdb83', ylabel='yfm28'>,\n",
       "        <AxesSubplot:xlabel='yfm28', ylabel='yfm28'>]], dtype=object)"
      ]
     },
     "execution_count": 5,
     "metadata": {},
     "output_type": "execute_result"
    },
    {
     "data": {
      "image/png": "[encoded data removed]",
      "text/plain": [
       "<Figure size 432x288 with 324 Axes>"
      ]
     },
     "metadata": {
      "needs_background": "light"
     },
     "output_type": "display_data"
    }
   ],
   "source": [
    "pd.plotting.scatter_matrix(df, alpha=.2)"
   ]
  },
  {
   "cell_type": "code",
   "execution_count": 6,
   "metadata": {
    "collapsed": false,
    "jupyter": {
     "outputs_hidden": false
    }
   },
   "outputs": [
    {
     "data": {
      "text/plain": [
       "(3000, 18)"
      ]
     },
     "execution_count": 6,
     "metadata": {},
     "output_type": "execute_result"
    }
   ],
   "source": [
    "df.shape"
   ]
  },
  {
   "cell_type": "markdown",
   "metadata": {},
   "source": [
    "# Perform PCA"
   ]
  },
  {
   "cell_type": "code",
   "execution_count": 7,
   "metadata": {},
   "outputs": [],
   "source": [
    "from sklearn.preprocessing import scale\n",
    "col_names = df.columns\n",
    "df = pd.DataFrame(scale(df), columns=col_names)"
   ]
  },
  {
   "cell_type": "code",
   "execution_count": 8,
   "metadata": {
    "collapsed": false,
    "jupyter": {
     "outputs_hidden": false
    }
   },
   "outputs": [
    {
     "data": {
      "text/plain": [
       "PCA(n_components=10)"
      ]
     },
     "execution_count": 8,
     "metadata": {},
     "output_type": "execute_result"
    }
   ],
   "source": [
    "pca = PCA(n_components=10)\n",
    "pca.fit(df)"
   ]
  },
  {
   "cell_type": "markdown",
   "metadata": {},
   "source": [
    "# Consider how many components are valuable"
   ]
  },
  {
   "cell_type": "code",
   "execution_count": 9,
   "metadata": {
    "collapsed": false,
    "jupyter": {
     "outputs_hidden": false
    }
   },
   "outputs": [
    {
     "data": {
      "text/plain": [
       "array([0.1607032 , 0.15885145, 0.10782797, 0.06039583, 0.05962489,\n",
       "       0.05795824, 0.05711221, 0.05602908, 0.05447766, 0.0535871 ])"
      ]
     },
     "execution_count": 9,
     "metadata": {},
     "output_type": "execute_result"
    }
   ],
   "source": [
    "pca.explained_variance_ratio_"
   ]
  },
  {
   "cell_type": "code",
   "execution_count": 10,
   "metadata": {
    "collapsed": false,
    "jupyter": {
     "outputs_hidden": false
    }
   },
   "outputs": [
    {
     "data": {
      "text/plain": [
       "array([0.1607032 , 0.31955465, 0.42738263, 0.48777845, 0.54740334,\n",
       "       0.60536158, 0.66247379, 0.71850287, 0.77298054, 0.82656764])"
      ]
     },
     "execution_count": 10,
     "metadata": {},
     "output_type": "execute_result"
    }
   ],
   "source": [
    "np.cumsum(pca.explained_variance_ratio_)"
   ]
  },
  {
   "cell_type": "code",
   "execution_count": 11,
   "metadata": {
    "collapsed": false,
    "jupyter": {
     "outputs_hidden": false
    }
   },
   "outputs": [
    {
     "data": {
      "text/plain": [
       "[<matplotlib.lines.Line2D at 0x12a6612b0>]"
      ]
     },
     "execution_count": 11,
     "metadata": {},
     "output_type": "execute_result"
    },
    {
     "data": {
      "image/png": "[encoded data removed]",
      "text/plain": [
       "<Figure size 432x288 with 1 Axes>"
      ]
     },
     "metadata": {
      "needs_background": "light"
     },
     "output_type": "display_data"
    }
   ],
   "source": [
    "plt.plot(pca.explained_variance_ratio_)"
   ]
  },
  {
   "cell_type": "code",
   "execution_count": 12,
   "metadata": {
    "collapsed": false,
    "jupyter": {
     "outputs_hidden": false
    }
   },
   "outputs": [],
   "source": [
    "pca = PCA(n_components=3)\n",
    "pca.fit(df)\n",
    "df_reduced = pca.transform(df)"
   ]
  },
  {
   "cell_type": "code",
   "execution_count": 13,
   "metadata": {
    "collapsed": false,
    "jupyter": {
     "outputs_hidden": false
    }
   },
   "outputs": [
    {
     "data": {
      "text/plain": [
       "array([[-1.23178076,  3.49215122,  1.12300125],\n",
       "       [-1.05401462,  3.6620001 ,  1.55882539],\n",
       "       [-0.2732519 , -2.36254962, -0.82719403],\n",
       "       ...,\n",
       "       [ 1.26115606, -3.46339203, -1.29493136],\n",
       "       [ 2.80497329, -0.16630313, -1.19670875],\n",
       "       [ 1.68347098,  1.68827638, -0.58918203]])"
      ]
     },
     "execution_count": 13,
     "metadata": {},
     "output_type": "execute_result"
    }
   ],
   "source": [
    "df_reduced"
   ]
  },
  {
   "cell_type": "code",
   "execution_count": 14,
   "metadata": {
    "collapsed": false,
    "jupyter": {
     "outputs_hidden": false
    }
   },
   "outputs": [
    {
     "data": {
      "text/plain": [
       "array([[<AxesSubplot:xlabel='0', ylabel='0'>,\n",
       "        <AxesSubplot:xlabel='1', ylabel='0'>,\n",
       "        <AxesSubplot:xlabel='2', ylabel='0'>],\n",
       "       [<AxesSubplot:xlabel='0', ylabel='1'>,\n",
       "        <AxesSubplot:xlabel='1', ylabel='1'>,\n",
       "        <AxesSubplot:xlabel='2', ylabel='1'>],\n",
       "       [<AxesSubplot:xlabel='0', ylabel='2'>,\n",
       "        <AxesSubplot:xlabel='1', ylabel='2'>,\n",
       "        <AxesSubplot:xlabel='2', ylabel='2'>]], dtype=object)"
      ]
     },
     "execution_count": 14,
     "metadata": {},
     "output_type": "execute_result"
    },
    {
     "data": {
      "image/png": "[encoded data removed]",
      "text/plain": [
       "<Figure size 432x288 with 9 Axes>"
      ]
     },
     "metadata": {
      "needs_background": "light"
     },
     "output_type": "display_data"
    }
   ],
   "source": [
    "df_reduced = pd.DataFrame(df_reduced)\n",
    "pd.plotting.scatter_matrix(df_reduced, alpha=.2)"
   ]
  },
  {
   "cell_type": "markdown",
   "metadata": {},
   "source": [
    "# Some info from PCA return"
   ]
  },
  {
   "cell_type": "code",
   "execution_count": 15,
   "metadata": {
    "collapsed": false,
    "jupyter": {
     "outputs_hidden": false
    }
   },
   "outputs": [
    {
     "data": {
      "text/plain": [
       "(3, 18)"
      ]
     },
     "execution_count": 15,
     "metadata": {},
     "output_type": "execute_result"
    }
   ],
   "source": [
    "pca.components_.shape"
   ]
  },
  {
   "cell_type": "code",
   "execution_count": 16,
   "metadata": {
    "collapsed": false,
    "jupyter": {
     "outputs_hidden": false
    }
   },
   "outputs": [
    {
     "data": {
      "text/plain": [
       "array([-0.02344378,  0.01568261, -0.26681515, -0.2678084 , -0.50353945,\n",
       "       -0.08880852, -0.50386817, -0.09213612,  0.01566269,  0.03748508,\n",
       "       -0.00239135, -0.00395659,  0.01896597,  0.02721848, -0.01116169,\n",
       "       -0.51270673, -0.25827709, -0.00307298])"
      ]
     },
     "execution_count": 16,
     "metadata": {},
     "output_type": "execute_result"
    }
   ],
   "source": [
    "pca.components_[0]"
   ]
  },
  {
   "cell_type": "code",
   "execution_count": 17,
   "metadata": {
    "collapsed": false,
    "jupyter": {
     "outputs_hidden": false
    }
   },
   "outputs": [
    {
     "data": {
      "text/plain": [
       "15"
      ]
     },
     "execution_count": 17,
     "metadata": {},
     "output_type": "execute_result"
    }
   ],
   "source": [
    "np.argmax(np.abs(pca.components_[0]))"
   ]
  },
  {
   "cell_type": "code",
   "execution_count": 18,
   "metadata": {
    "collapsed": false,
    "jupyter": {
     "outputs_hidden": false
    }
   },
   "outputs": [
    {
     "data": {
      "text/plain": [
       "-0.5127067273674959"
      ]
     },
     "execution_count": 18,
     "metadata": {},
     "output_type": "execute_result"
    }
   ],
   "source": [
    "pca.components_[0][15]"
   ]
  },
  {
   "cell_type": "code",
   "execution_count": 19,
   "metadata": {
    "collapsed": false,
    "jupyter": {
     "outputs_hidden": false
    }
   },
   "outputs": [
    {
     "data": {
      "text/plain": [
       "'rva241'"
      ]
     },
     "execution_count": 19,
     "metadata": {},
     "output_type": "execute_result"
    }
   ],
   "source": [
    "df.columns[15]"
   ]
  },
  {
   "cell_type": "code",
   "execution_count": 20,
   "metadata": {
    "collapsed": false,
    "jupyter": {
     "outputs_hidden": false
    }
   },
   "outputs": [
    {
     "data": {
      "text/plain": [
       "3"
      ]
     },
     "execution_count": 20,
     "metadata": {},
     "output_type": "execute_result"
    }
   ],
   "source": [
    "np.argmax(np.abs(pca.components_[1]))"
   ]
  },
  {
   "cell_type": "code",
   "execution_count": 21,
   "metadata": {
    "collapsed": false,
    "jupyter": {
     "outputs_hidden": false
    }
   },
   "outputs": [
    {
     "data": {
      "text/plain": [
       "'bwr202'"
      ]
     },
     "execution_count": 21,
     "metadata": {},
     "output_type": "execute_result"
    }
   ],
   "source": [
    "df.columns[3]"
   ]
  },
  {
   "cell_type": "code",
   "execution_count": null,
   "metadata": {
    "collapsed": true,
    "jupyter": {
     "outputs_hidden": true
    }
   },
   "outputs": [],
   "source": []
  }
 ],
 "metadata": {
  "anaconda-cloud": {},
  "kernelspec": {
   "display_name": "Python 3",
   "language": "python",
   "name": "python3"
  },
  "language_info": {
   "codemirror_mode": {
    "name": "ipython",
    "version": 3
   },
   "file_extension": ".py",
   "mimetype": "text/x-python",
   "name": "python",
   "nbconvert_exporter": "python",
   "pygments_lexer": "ipython3",
   "version": "3.8.0"
  }
 },
 "nbformat": 4,
 "nbformat_minor": 4
}
