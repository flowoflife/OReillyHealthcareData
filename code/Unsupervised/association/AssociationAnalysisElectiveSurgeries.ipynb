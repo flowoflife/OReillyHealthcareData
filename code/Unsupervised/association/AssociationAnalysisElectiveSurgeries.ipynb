{
 "cells": [
  {
   "cell_type": "code",
   "execution_count": 1,
   "metadata": {},
   "outputs": [],
   "source": [
    "import numpy as np \n",
    "import pandas as pd\n",
    "import apyori\n",
    "from apyori import apriori"
   ]
  },
  {
   "cell_type": "markdown",
   "metadata": {},
   "source": [
    "# Read in data and put in required format"
   ]
  },
  {
   "cell_type": "code",
   "execution_count": 2,
   "metadata": {
    "collapsed": false,
    "jupyter": {
     "outputs_hidden": false
    }
   },
   "outputs": [
    {
     "data": {
      "text/html": [
       "<div>\n",
       "<style scoped>\n",
       "    .dataframe tbody tr th:only-of-type {\n",
       "        vertical-align: middle;\n",
       "    }\n",
       "\n",
       "    .dataframe tbody tr th {\n",
       "        vertical-align: top;\n",
       "    }\n",
       "\n",
       "    .dataframe thead th {\n",
       "        text-align: right;\n",
       "    }\n",
       "</style>\n",
       "<table border=\"1\" class=\"dataframe\">\n",
       "  <thead>\n",
       "    <tr style=\"text-align: right;\">\n",
       "      <th></th>\n",
       "      <th>arthritis</th>\n",
       "      <th>asthma</th>\n",
       "      <th>copd</th>\n",
       "      <th>depression</th>\n",
       "      <th>diabetes</th>\n",
       "      <th>dry_skin</th>\n",
       "      <th>eye_problems</th>\n",
       "      <th>heart_disease</th>\n",
       "      <th>lung_cancer</th>\n",
       "      <th>stomach_cramps</th>\n",
       "    </tr>\n",
       "  </thead>\n",
       "  <tbody>\n",
       "    <tr>\n",
       "      <th>0</th>\n",
       "      <td>1</td>\n",
       "      <td>1</td>\n",
       "      <td>0</td>\n",
       "      <td>0</td>\n",
       "      <td>0</td>\n",
       "      <td>0</td>\n",
       "      <td>0</td>\n",
       "      <td>0</td>\n",
       "      <td>0</td>\n",
       "      <td>0</td>\n",
       "    </tr>\n",
       "    <tr>\n",
       "      <th>1</th>\n",
       "      <td>1</td>\n",
       "      <td>0</td>\n",
       "      <td>1</td>\n",
       "      <td>0</td>\n",
       "      <td>1</td>\n",
       "      <td>0</td>\n",
       "      <td>0</td>\n",
       "      <td>0</td>\n",
       "      <td>0</td>\n",
       "      <td>0</td>\n",
       "    </tr>\n",
       "    <tr>\n",
       "      <th>2</th>\n",
       "      <td>1</td>\n",
       "      <td>0</td>\n",
       "      <td>0</td>\n",
       "      <td>0</td>\n",
       "      <td>0</td>\n",
       "      <td>0</td>\n",
       "      <td>0</td>\n",
       "      <td>0</td>\n",
       "      <td>0</td>\n",
       "      <td>1</td>\n",
       "    </tr>\n",
       "    <tr>\n",
       "      <th>3</th>\n",
       "      <td>0</td>\n",
       "      <td>0</td>\n",
       "      <td>1</td>\n",
       "      <td>0</td>\n",
       "      <td>0</td>\n",
       "      <td>0</td>\n",
       "      <td>0</td>\n",
       "      <td>0</td>\n",
       "      <td>0</td>\n",
       "      <td>0</td>\n",
       "    </tr>\n",
       "    <tr>\n",
       "      <th>4</th>\n",
       "      <td>1</td>\n",
       "      <td>0</td>\n",
       "      <td>0</td>\n",
       "      <td>1</td>\n",
       "      <td>1</td>\n",
       "      <td>1</td>\n",
       "      <td>1</td>\n",
       "      <td>0</td>\n",
       "      <td>0</td>\n",
       "      <td>0</td>\n",
       "    </tr>\n",
       "  </tbody>\n",
       "</table>\n",
       "</div>"
      ],
      "text/plain": [
       "   arthritis  asthma  copd  depression  diabetes  dry_skin  eye_problems  \\\n",
       "0          1       1     0           0         0         0             0   \n",
       "1          1       0     1           0         1         0             0   \n",
       "2          1       0     0           0         0         0             0   \n",
       "3          0       0     1           0         0         0             0   \n",
       "4          1       0     0           1         1         1             1   \n",
       "\n",
       "   heart_disease  lung_cancer  stomach_cramps  \n",
       "0              0            0               0  \n",
       "1              0            0               0  \n",
       "2              0            0               1  \n",
       "3              0            0               0  \n",
       "4              0            0               0  "
      ]
     },
     "execution_count": 2,
     "metadata": {},
     "output_type": "execute_result"
    }
   ],
   "source": [
    "df = pd.read_csv('comorbidity.csv')\n",
    "df.head()"
   ]
  },
  {
   "cell_type": "code",
   "execution_count": 3,
   "metadata": {},
   "outputs": [],
   "source": [
    "# can recycle this code directly from example\n",
    "patients = []\n",
    "for j in range(df.shape[0]):\n",
    "    t = df.iloc[j]\n",
    "    new_list = []\n",
    "    for i in t.index:\n",
    "        if len(t[i]*i) > 0:\n",
    "            new_list.append(t[i]*i)\n",
    "    patients.append(new_list)"
   ]
  },
  {
   "cell_type": "code",
   "execution_count": 4,
   "metadata": {
    "collapsed": false,
    "jupyter": {
     "outputs_hidden": false
    }
   },
   "outputs": [
    {
     "data": {
      "text/plain": [
       "['arthritis', 'asthma']"
      ]
     },
     "execution_count": 4,
     "metadata": {},
     "output_type": "execute_result"
    }
   ],
   "source": [
    "patients[0]"
   ]
  },
  {
   "cell_type": "markdown",
   "metadata": {},
   "source": [
    "# Perform association analysis"
   ]
  },
  {
   "cell_type": "code",
   "execution_count": 5,
   "metadata": {},
   "outputs": [],
   "source": [
    "results = list(apriori(patients, min_support = .1, min_confidence = .5, max_length = 4))"
   ]
  },
  {
   "cell_type": "code",
   "execution_count": 6,
   "metadata": {
    "collapsed": false,
    "jupyter": {
     "outputs_hidden": false
    }
   },
   "outputs": [
    {
     "data": {
      "text/plain": [
       "9"
      ]
     },
     "execution_count": 6,
     "metadata": {},
     "output_type": "execute_result"
    }
   ],
   "source": [
    "len(results)"
   ]
  },
  {
   "cell_type": "code",
   "execution_count": 7,
   "metadata": {
    "collapsed": false,
    "jupyter": {
     "outputs_hidden": false
    }
   },
   "outputs": [
    {
     "data": {
      "text/plain": [
       "RelationRecord(items=frozenset({'diabetes', 'arthritis'}), support=0.1534, ordered_statistics=[OrderedStatistic(items_base=frozenset({'diabetes'}), items_add=frozenset({'arthritis'}), confidence=0.508283631544069, lift=1.3819565838609813)])"
      ]
     },
     "execution_count": 7,
     "metadata": {},
     "output_type": "execute_result"
    }
   ],
   "source": [
    "results[0]"
   ]
  },
  {
   "cell_type": "code",
   "execution_count": 8,
   "metadata": {
    "collapsed": false,
    "jupyter": {
     "outputs_hidden": false
    }
   },
   "outputs": [
    {
     "data": {
      "text/plain": [
       "['diabetes', 'arthritis']"
      ]
     },
     "execution_count": 8,
     "metadata": {},
     "output_type": "execute_result"
    }
   ],
   "source": [
    "list(results[0].items)"
   ]
  },
  {
   "cell_type": "code",
   "execution_count": 9,
   "metadata": {
    "collapsed": false,
    "jupyter": {
     "outputs_hidden": false
    }
   },
   "outputs": [
    {
     "data": {
      "text/plain": [
       "0.1534"
      ]
     },
     "execution_count": 9,
     "metadata": {},
     "output_type": "execute_result"
    }
   ],
   "source": [
    "results[0].support"
   ]
  },
  {
   "cell_type": "code",
   "execution_count": 10,
   "metadata": {
    "collapsed": false,
    "jupyter": {
     "outputs_hidden": false
    }
   },
   "outputs": [
    {
     "data": {
      "text/plain": [
       "1.3819565838609813"
      ]
     },
     "execution_count": 10,
     "metadata": {},
     "output_type": "execute_result"
    }
   ],
   "source": [
    "results[0].ordered_statistics[0].lift"
   ]
  },
  {
   "cell_type": "code",
   "execution_count": 11,
   "metadata": {
    "collapsed": false,
    "jupyter": {
     "outputs_hidden": false
    }
   },
   "outputs": [],
   "source": [
    "items = []\n",
    "support = []\n",
    "confidence = []\n",
    "lift = []\n",
    "for r in results:\n",
    "    items.append(list(r.items))\n",
    "    support.append(r.support)\n",
    "    lift.append(r.ordered_statistics[0].lift)\n",
    "    confidence.append(r.ordered_statistics[0].confidence)"
   ]
  },
  {
   "cell_type": "code",
   "execution_count": 12,
   "metadata": {},
   "outputs": [],
   "source": [
    "results_df = pd.DataFrame({'items':items,\n",
    "                       'support':support,\n",
    "                       'lift': lift,\n",
    "                       'confidence': confidence})"
   ]
  },
  {
   "cell_type": "code",
   "execution_count": 13,
   "metadata": {
    "collapsed": false,
    "jupyter": {
     "outputs_hidden": false
    }
   },
   "outputs": [
    {
     "data": {
      "text/html": [
       "<div>\n",
       "<style scoped>\n",
       "    .dataframe tbody tr th:only-of-type {\n",
       "        vertical-align: middle;\n",
       "    }\n",
       "\n",
       "    .dataframe tbody tr th {\n",
       "        vertical-align: top;\n",
       "    }\n",
       "\n",
       "    .dataframe thead th {\n",
       "        text-align: right;\n",
       "    }\n",
       "</style>\n",
       "<table border=\"1\" class=\"dataframe\">\n",
       "  <thead>\n",
       "    <tr style=\"text-align: right;\">\n",
       "      <th></th>\n",
       "      <th>items</th>\n",
       "      <th>support</th>\n",
       "      <th>lift</th>\n",
       "      <th>confidence</th>\n",
       "    </tr>\n",
       "  </thead>\n",
       "  <tbody>\n",
       "    <tr>\n",
       "      <th>8</th>\n",
       "      <td>[diabetes, dry_skin, eye_problems]</td>\n",
       "      <td>0.1106</td>\n",
       "      <td>1.910586</td>\n",
       "      <td>0.691250</td>\n",
       "    </tr>\n",
       "    <tr>\n",
       "      <th>7</th>\n",
       "      <td>[copd, dry_skin, eye_problems]</td>\n",
       "      <td>0.1122</td>\n",
       "      <td>1.587083</td>\n",
       "      <td>0.574207</td>\n",
       "    </tr>\n",
       "    <tr>\n",
       "      <th>6</th>\n",
       "      <td>[eye_problems, dry_skin, arthritis]</td>\n",
       "      <td>0.1050</td>\n",
       "      <td>1.533099</td>\n",
       "      <td>0.554675</td>\n",
       "    </tr>\n",
       "    <tr>\n",
       "      <th>5</th>\n",
       "      <td>[eye_problems, dry_skin]</td>\n",
       "      <td>0.2512</td>\n",
       "      <td>1.502502</td>\n",
       "      <td>0.543605</td>\n",
       "    </tr>\n",
       "    <tr>\n",
       "      <th>4</th>\n",
       "      <td>[diabetes, eye_problems]</td>\n",
       "      <td>0.1554</td>\n",
       "      <td>1.423191</td>\n",
       "      <td>0.514911</td>\n",
       "    </tr>\n",
       "    <tr>\n",
       "      <th>0</th>\n",
       "      <td>[diabetes, arthritis]</td>\n",
       "      <td>0.1534</td>\n",
       "      <td>1.381957</td>\n",
       "      <td>0.508284</td>\n",
       "    </tr>\n",
       "    <tr>\n",
       "      <th>2</th>\n",
       "      <td>[copd, diabetes]</td>\n",
       "      <td>0.1622</td>\n",
       "      <td>1.355807</td>\n",
       "      <td>0.537442</td>\n",
       "    </tr>\n",
       "    <tr>\n",
       "      <th>3</th>\n",
       "      <td>[diabetes, dry_skin]</td>\n",
       "      <td>0.1600</td>\n",
       "      <td>1.147268</td>\n",
       "      <td>0.530152</td>\n",
       "    </tr>\n",
       "    <tr>\n",
       "      <th>1</th>\n",
       "      <td>[dry_skin, arthritis]</td>\n",
       "      <td>0.1893</td>\n",
       "      <td>1.113789</td>\n",
       "      <td>0.514682</td>\n",
       "    </tr>\n",
       "  </tbody>\n",
       "</table>\n",
       "</div>"
      ],
      "text/plain": [
       "                                 items  support      lift  confidence\n",
       "8   [diabetes, dry_skin, eye_problems]   0.1106  1.910586    0.691250\n",
       "7       [copd, dry_skin, eye_problems]   0.1122  1.587083    0.574207\n",
       "6  [eye_problems, dry_skin, arthritis]   0.1050  1.533099    0.554675\n",
       "5             [eye_problems, dry_skin]   0.2512  1.502502    0.543605\n",
       "4             [diabetes, eye_problems]   0.1554  1.423191    0.514911\n",
       "0                [diabetes, arthritis]   0.1534  1.381957    0.508284\n",
       "2                     [copd, diabetes]   0.1622  1.355807    0.537442\n",
       "3                 [diabetes, dry_skin]   0.1600  1.147268    0.530152\n",
       "1                [dry_skin, arthritis]   0.1893  1.113789    0.514682"
      ]
     },
     "execution_count": 13,
     "metadata": {},
     "output_type": "execute_result"
    }
   ],
   "source": [
    "results_df.sort_values('lift', ascending = False)"
   ]
  },
  {
   "cell_type": "code",
   "execution_count": null,
   "metadata": {
    "collapsed": true,
    "jupyter": {
     "outputs_hidden": true
    }
   },
   "outputs": [],
   "source": []
  }
 ],
 "metadata": {
  "kernelspec": {
   "display_name": "Python 3",
   "language": "python",
   "name": "python3"
  },
  "language_info": {
   "codemirror_mode": {
    "name": "ipython",
    "version": 3
   },
   "file_extension": ".py",
   "mimetype": "text/x-python",
   "name": "python",
   "nbconvert_exporter": "python",
   "pygments_lexer": "ipython3",
   "version": "3.8.0"
  }
 },
 "nbformat": 4,
 "nbformat_minor": 4
}
