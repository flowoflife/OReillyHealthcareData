{
 "cells": [
  {
   "cell_type": "code",
   "execution_count": 1,
   "metadata": {},
   "outputs": [],
   "source": [
    "%matplotlib inline\n",
    "import pandas as pd\n",
    "from matplotlib import pyplot as plt\n",
    "import numpy as np"
   ]
  },
  {
   "cell_type": "markdown",
   "metadata": {},
   "source": [
    "# Read in and standardize the data"
   ]
  },
  {
   "cell_type": "code",
   "execution_count": 2,
   "metadata": {
    "collapsed": false,
    "jupyter": {
     "outputs_hidden": false
    }
   },
   "outputs": [],
   "source": [
    "df_activities_happiness = pd.read_csv('daily_activities_and_happiness.csv')"
   ]
  },
  {
   "cell_type": "code",
   "execution_count": 3,
   "metadata": {
    "collapsed": false,
    "jupyter": {
     "outputs_hidden": false
    }
   },
   "outputs": [
    {
     "data": {
      "text/html": [
       "<div>\n",
       "<style scoped>\n",
       "    .dataframe tbody tr th:only-of-type {\n",
       "        vertical-align: middle;\n",
       "    }\n",
       "\n",
       "    .dataframe tbody tr th {\n",
       "        vertical-align: top;\n",
       "    }\n",
       "\n",
       "    .dataframe thead th {\n",
       "        text-align: right;\n",
       "    }\n",
       "</style>\n",
       "<table border=\"1\" class=\"dataframe\">\n",
       "  <thead>\n",
       "    <tr style=\"text-align: right;\">\n",
       "      <th></th>\n",
       "      <th>daily_minutes_hobby</th>\n",
       "      <th>daily_minutes_exercise</th>\n",
       "      <th>daily_minutes_grooming</th>\n",
       "      <th>daily_minutes_commuting</th>\n",
       "      <th>daily_minutes_tv</th>\n",
       "      <th>daily_minutes_talking_to_friend</th>\n",
       "      <th>happiness_rating</th>\n",
       "    </tr>\n",
       "  </thead>\n",
       "  <tbody>\n",
       "    <tr>\n",
       "      <th>0</th>\n",
       "      <td>19</td>\n",
       "      <td>16</td>\n",
       "      <td>14</td>\n",
       "      <td>20</td>\n",
       "      <td>95</td>\n",
       "      <td>22</td>\n",
       "      <td>2</td>\n",
       "    </tr>\n",
       "    <tr>\n",
       "      <th>1</th>\n",
       "      <td>17</td>\n",
       "      <td>23</td>\n",
       "      <td>8</td>\n",
       "      <td>64</td>\n",
       "      <td>72</td>\n",
       "      <td>14</td>\n",
       "      <td>1</td>\n",
       "    </tr>\n",
       "    <tr>\n",
       "      <th>2</th>\n",
       "      <td>20</td>\n",
       "      <td>21</td>\n",
       "      <td>18</td>\n",
       "      <td>53</td>\n",
       "      <td>30</td>\n",
       "      <td>18</td>\n",
       "      <td>2</td>\n",
       "    </tr>\n",
       "    <tr>\n",
       "      <th>3</th>\n",
       "      <td>23</td>\n",
       "      <td>21</td>\n",
       "      <td>20</td>\n",
       "      <td>65</td>\n",
       "      <td>22</td>\n",
       "      <td>15</td>\n",
       "      <td>2</td>\n",
       "    </tr>\n",
       "    <tr>\n",
       "      <th>4</th>\n",
       "      <td>28</td>\n",
       "      <td>7</td>\n",
       "      <td>19</td>\n",
       "      <td>38</td>\n",
       "      <td>36</td>\n",
       "      <td>14</td>\n",
       "      <td>2</td>\n",
       "    </tr>\n",
       "  </tbody>\n",
       "</table>\n",
       "</div>"
      ],
      "text/plain": [
       "   daily_minutes_hobby  daily_minutes_exercise  daily_minutes_grooming  \\\n",
       "0                   19                      16                      14   \n",
       "1                   17                      23                       8   \n",
       "2                   20                      21                      18   \n",
       "3                   23                      21                      20   \n",
       "4                   28                       7                      19   \n",
       "\n",
       "   daily_minutes_commuting  daily_minutes_tv  daily_minutes_talking_to_friend  \\\n",
       "0                       20                95                               22   \n",
       "1                       64                72                               14   \n",
       "2                       53                30                               18   \n",
       "3                       65                22                               15   \n",
       "4                       38                36                               14   \n",
       "\n",
       "   happiness_rating  \n",
       "0                 2  \n",
       "1                 1  \n",
       "2                 2  \n",
       "3                 2  \n",
       "4                 2  "
      ]
     },
     "execution_count": 3,
     "metadata": {},
     "output_type": "execute_result"
    }
   ],
   "source": [
    "df_activities_happiness.head()"
   ]
  },
  {
   "cell_type": "code",
   "execution_count": 4,
   "metadata": {},
   "outputs": [],
   "source": [
    "from sklearn.preprocessing import normalize, scale"
   ]
  },
  {
   "cell_type": "code",
   "execution_count": 5,
   "metadata": {},
   "outputs": [],
   "source": [
    "data = np.array(df_activities_happiness)"
   ]
  },
  {
   "cell_type": "code",
   "execution_count": 6,
   "metadata": {
    "collapsed": false,
    "jupyter": {
     "outputs_hidden": false
    }
   },
   "outputs": [],
   "source": [
    "data_standardized = scale(data, axis=0)"
   ]
  },
  {
   "cell_type": "code",
   "execution_count": 7,
   "metadata": {
    "collapsed": false,
    "jupyter": {
     "outputs_hidden": false
    }
   },
   "outputs": [
    {
     "data": {
      "text/plain": [
       "array([[-0.29102906, -0.67627368, -0.46331435, ...,  0.7019932 ,\n",
       "         1.12765327,  0.52036641],\n",
       "       [-0.58237654,  0.46872577, -1.45613082, ..., -0.17727396,\n",
       "        -0.1915767 , -1.04586802],\n",
       "       [-0.14535533,  0.14158307,  0.19856329, ..., -1.78289226,\n",
       "         0.46803829,  0.52036641],\n",
       "       ...,\n",
       "       [ 1.16570832, -0.18555963, -0.13237553, ...,  0.62553518,\n",
       "         1.29255702,  0.52036641],\n",
       "       [ 0.29166589, -0.18555963, -0.79425317, ...,  0.58730618,\n",
       "         1.45746077,  0.52036641],\n",
       "       [-1.45641897, -0.34913098, -0.13237553, ..., -1.93580829,\n",
       "        -0.1915767 ,  0.52036641]])"
      ]
     },
     "execution_count": 7,
     "metadata": {},
     "output_type": "execute_result"
    }
   ],
   "source": [
    "data_standardized"
   ]
  },
  {
   "cell_type": "code",
   "execution_count": 8,
   "metadata": {
    "collapsed": false,
    "jupyter": {
     "outputs_hidden": false
    }
   },
   "outputs": [
    {
     "data": {
      "text/plain": [
       "array([-2.91029064e-01, -5.82376540e-01, -1.45355326e-01,  2.91665889e-01,\n",
       "        1.02003458e+00, -2.91029064e-01, -2.91029064e-01, -1.45355326e-01,\n",
       "        3.18412542e-04,  1.45992151e-01])"
      ]
     },
     "execution_count": 8,
     "metadata": {},
     "output_type": "execute_result"
    }
   ],
   "source": [
    "data_standardized[:, 0][:10]"
   ]
  },
  {
   "cell_type": "code",
   "execution_count": 9,
   "metadata": {
    "collapsed": false,
    "jupyter": {
     "outputs_hidden": false
    }
   },
   "outputs": [
    {
     "data": {
      "text/plain": [
       "1.7084087635761973e-16"
      ]
     },
     "execution_count": 9,
     "metadata": {},
     "output_type": "execute_result"
    }
   ],
   "source": [
    "np.mean(data_standardized[:, 0])"
   ]
  },
  {
   "cell_type": "code",
   "execution_count": 10,
   "metadata": {
    "collapsed": false,
    "jupyter": {
     "outputs_hidden": false
    }
   },
   "outputs": [],
   "source": [
    "df = pd.DataFrame(data_standardized, columns=df_activities_happiness.columns)"
   ]
  },
  {
   "cell_type": "code",
   "execution_count": 11,
   "metadata": {
    "collapsed": false,
    "jupyter": {
     "outputs_hidden": false
    }
   },
   "outputs": [
    {
     "data": {
      "text/html": [
       "<div>\n",
       "<style scoped>\n",
       "    .dataframe tbody tr th:only-of-type {\n",
       "        vertical-align: middle;\n",
       "    }\n",
       "\n",
       "    .dataframe tbody tr th {\n",
       "        vertical-align: top;\n",
       "    }\n",
       "\n",
       "    .dataframe thead th {\n",
       "        text-align: right;\n",
       "    }\n",
       "</style>\n",
       "<table border=\"1\" class=\"dataframe\">\n",
       "  <thead>\n",
       "    <tr style=\"text-align: right;\">\n",
       "      <th></th>\n",
       "      <th>daily_minutes_hobby</th>\n",
       "      <th>daily_minutes_exercise</th>\n",
       "      <th>daily_minutes_grooming</th>\n",
       "      <th>daily_minutes_commuting</th>\n",
       "      <th>daily_minutes_tv</th>\n",
       "      <th>daily_minutes_talking_to_friend</th>\n",
       "      <th>happiness_rating</th>\n",
       "    </tr>\n",
       "  </thead>\n",
       "  <tbody>\n",
       "    <tr>\n",
       "      <th>0</th>\n",
       "      <td>-0.291029</td>\n",
       "      <td>-0.676274</td>\n",
       "      <td>-0.463314</td>\n",
       "      <td>-1.849802</td>\n",
       "      <td>0.701993</td>\n",
       "      <td>1.127653</td>\n",
       "      <td>0.520366</td>\n",
       "    </tr>\n",
       "    <tr>\n",
       "      <th>1</th>\n",
       "      <td>-0.582377</td>\n",
       "      <td>0.468726</td>\n",
       "      <td>-1.456131</td>\n",
       "      <td>0.487707</td>\n",
       "      <td>-0.177274</td>\n",
       "      <td>-0.191577</td>\n",
       "      <td>-1.045868</td>\n",
       "    </tr>\n",
       "    <tr>\n",
       "      <th>2</th>\n",
       "      <td>-0.145355</td>\n",
       "      <td>0.141583</td>\n",
       "      <td>0.198563</td>\n",
       "      <td>-0.096670</td>\n",
       "      <td>-1.782892</td>\n",
       "      <td>0.468038</td>\n",
       "      <td>0.520366</td>\n",
       "    </tr>\n",
       "    <tr>\n",
       "      <th>3</th>\n",
       "      <td>0.291666</td>\n",
       "      <td>0.141583</td>\n",
       "      <td>0.529502</td>\n",
       "      <td>0.540832</td>\n",
       "      <td>-2.088724</td>\n",
       "      <td>-0.026673</td>\n",
       "      <td>0.520366</td>\n",
       "    </tr>\n",
       "    <tr>\n",
       "      <th>4</th>\n",
       "      <td>1.020035</td>\n",
       "      <td>-2.148416</td>\n",
       "      <td>0.364033</td>\n",
       "      <td>-0.893548</td>\n",
       "      <td>-1.553518</td>\n",
       "      <td>-0.191577</td>\n",
       "      <td>0.520366</td>\n",
       "    </tr>\n",
       "  </tbody>\n",
       "</table>\n",
       "</div>"
      ],
      "text/plain": [
       "   daily_minutes_hobby  daily_minutes_exercise  daily_minutes_grooming  \\\n",
       "0            -0.291029               -0.676274               -0.463314   \n",
       "1            -0.582377                0.468726               -1.456131   \n",
       "2            -0.145355                0.141583                0.198563   \n",
       "3             0.291666                0.141583                0.529502   \n",
       "4             1.020035               -2.148416                0.364033   \n",
       "\n",
       "   daily_minutes_commuting  daily_minutes_tv  daily_minutes_talking_to_friend  \\\n",
       "0                -1.849802          0.701993                         1.127653   \n",
       "1                 0.487707         -0.177274                        -0.191577   \n",
       "2                -0.096670         -1.782892                         0.468038   \n",
       "3                 0.540832         -2.088724                        -0.026673   \n",
       "4                -0.893548         -1.553518                        -0.191577   \n",
       "\n",
       "   happiness_rating  \n",
       "0          0.520366  \n",
       "1         -1.045868  \n",
       "2          0.520366  \n",
       "3          0.520366  \n",
       "4          0.520366  "
      ]
     },
     "execution_count": 11,
     "metadata": {},
     "output_type": "execute_result"
    }
   ],
   "source": [
    "df.head()"
   ]
  },
  {
   "cell_type": "code",
   "execution_count": 12,
   "metadata": {
    "collapsed": false,
    "jupyter": {
     "outputs_hidden": false
    }
   },
   "outputs": [
    {
     "data": {
      "text/html": [
       "<div>\n",
       "<style scoped>\n",
       "    .dataframe tbody tr th:only-of-type {\n",
       "        vertical-align: middle;\n",
       "    }\n",
       "\n",
       "    .dataframe tbody tr th {\n",
       "        vertical-align: top;\n",
       "    }\n",
       "\n",
       "    .dataframe thead th {\n",
       "        text-align: right;\n",
       "    }\n",
       "</style>\n",
       "<table border=\"1\" class=\"dataframe\">\n",
       "  <thead>\n",
       "    <tr style=\"text-align: right;\">\n",
       "      <th></th>\n",
       "      <th>daily_minutes_hobby</th>\n",
       "      <th>daily_minutes_exercise</th>\n",
       "      <th>daily_minutes_grooming</th>\n",
       "      <th>daily_minutes_commuting</th>\n",
       "      <th>daily_minutes_tv</th>\n",
       "      <th>daily_minutes_talking_to_friend</th>\n",
       "      <th>happiness_rating</th>\n",
       "    </tr>\n",
       "  </thead>\n",
       "  <tbody>\n",
       "    <tr>\n",
       "      <th>0</th>\n",
       "      <td>19</td>\n",
       "      <td>16</td>\n",
       "      <td>14</td>\n",
       "      <td>20</td>\n",
       "      <td>95</td>\n",
       "      <td>22</td>\n",
       "      <td>2</td>\n",
       "    </tr>\n",
       "    <tr>\n",
       "      <th>1</th>\n",
       "      <td>17</td>\n",
       "      <td>23</td>\n",
       "      <td>8</td>\n",
       "      <td>64</td>\n",
       "      <td>72</td>\n",
       "      <td>14</td>\n",
       "      <td>1</td>\n",
       "    </tr>\n",
       "    <tr>\n",
       "      <th>2</th>\n",
       "      <td>20</td>\n",
       "      <td>21</td>\n",
       "      <td>18</td>\n",
       "      <td>53</td>\n",
       "      <td>30</td>\n",
       "      <td>18</td>\n",
       "      <td>2</td>\n",
       "    </tr>\n",
       "    <tr>\n",
       "      <th>3</th>\n",
       "      <td>23</td>\n",
       "      <td>21</td>\n",
       "      <td>20</td>\n",
       "      <td>65</td>\n",
       "      <td>22</td>\n",
       "      <td>15</td>\n",
       "      <td>2</td>\n",
       "    </tr>\n",
       "    <tr>\n",
       "      <th>4</th>\n",
       "      <td>28</td>\n",
       "      <td>7</td>\n",
       "      <td>19</td>\n",
       "      <td>38</td>\n",
       "      <td>36</td>\n",
       "      <td>14</td>\n",
       "      <td>2</td>\n",
       "    </tr>\n",
       "  </tbody>\n",
       "</table>\n",
       "</div>"
      ],
      "text/plain": [
       "   daily_minutes_hobby  daily_minutes_exercise  daily_minutes_grooming  \\\n",
       "0                   19                      16                      14   \n",
       "1                   17                      23                       8   \n",
       "2                   20                      21                      18   \n",
       "3                   23                      21                      20   \n",
       "4                   28                       7                      19   \n",
       "\n",
       "   daily_minutes_commuting  daily_minutes_tv  daily_minutes_talking_to_friend  \\\n",
       "0                       20                95                               22   \n",
       "1                       64                72                               14   \n",
       "2                       53                30                               18   \n",
       "3                       65                22                               15   \n",
       "4                       38                36                               14   \n",
       "\n",
       "   happiness_rating  \n",
       "0                 2  \n",
       "1                 1  \n",
       "2                 2  \n",
       "3                 2  \n",
       "4                 2  "
      ]
     },
     "execution_count": 12,
     "metadata": {},
     "output_type": "execute_result"
    }
   ],
   "source": [
    "df_activities_happiness.head()"
   ]
  },
  {
   "cell_type": "code",
   "execution_count": 13,
   "metadata": {
    "collapsed": false,
    "jupyter": {
     "outputs_hidden": false
    }
   },
   "outputs": [
    {
     "data": {
      "text/plain": [
       "count    915.000000\n",
       "mean      20.997814\n",
       "std        6.868410\n",
       "min        0.000000\n",
       "25%       16.000000\n",
       "50%       21.000000\n",
       "75%       25.000000\n",
       "max       42.000000\n",
       "Name: daily_minutes_hobby, dtype: float64"
      ]
     },
     "execution_count": 13,
     "metadata": {},
     "output_type": "execute_result"
    }
   ],
   "source": [
    "df_activities_happiness.daily_minutes_hobby.describe()"
   ]
  },
  {
   "cell_type": "markdown",
   "metadata": {},
   "source": [
    "# Precompute distance and run clustering"
   ]
  },
  {
   "cell_type": "code",
   "execution_count": 14,
   "metadata": {
    "collapsed": false,
    "jupyter": {
     "outputs_hidden": false
    }
   },
   "outputs": [],
   "source": [
    "from scipy.cluster.hierarchy import dendrogram, linkage\n",
    "from scipy.spatial.distance import pdist"
   ]
  },
  {
   "cell_type": "code",
   "execution_count": 15,
   "metadata": {
    "collapsed": false,
    "jupyter": {
     "outputs_hidden": false
    }
   },
   "outputs": [
    {
     "data": {
      "text/html": [
       "<div>\n",
       "<style scoped>\n",
       "    .dataframe tbody tr th:only-of-type {\n",
       "        vertical-align: middle;\n",
       "    }\n",
       "\n",
       "    .dataframe tbody tr th {\n",
       "        vertical-align: top;\n",
       "    }\n",
       "\n",
       "    .dataframe thead th {\n",
       "        text-align: right;\n",
       "    }\n",
       "</style>\n",
       "<table border=\"1\" class=\"dataframe\">\n",
       "  <thead>\n",
       "    <tr style=\"text-align: right;\">\n",
       "      <th></th>\n",
       "      <th>daily_minutes_hobby</th>\n",
       "      <th>daily_minutes_exercise</th>\n",
       "      <th>daily_minutes_grooming</th>\n",
       "      <th>daily_minutes_commuting</th>\n",
       "      <th>daily_minutes_tv</th>\n",
       "      <th>daily_minutes_talking_to_friend</th>\n",
       "      <th>happiness_rating</th>\n",
       "    </tr>\n",
       "  </thead>\n",
       "  <tbody>\n",
       "    <tr>\n",
       "      <th>0</th>\n",
       "      <td>-0.291029</td>\n",
       "      <td>-0.676274</td>\n",
       "      <td>-0.463314</td>\n",
       "      <td>-1.849802</td>\n",
       "      <td>0.701993</td>\n",
       "      <td>1.127653</td>\n",
       "      <td>0.520366</td>\n",
       "    </tr>\n",
       "    <tr>\n",
       "      <th>1</th>\n",
       "      <td>-0.582377</td>\n",
       "      <td>0.468726</td>\n",
       "      <td>-1.456131</td>\n",
       "      <td>0.487707</td>\n",
       "      <td>-0.177274</td>\n",
       "      <td>-0.191577</td>\n",
       "      <td>-1.045868</td>\n",
       "    </tr>\n",
       "    <tr>\n",
       "      <th>2</th>\n",
       "      <td>-0.145355</td>\n",
       "      <td>0.141583</td>\n",
       "      <td>0.198563</td>\n",
       "      <td>-0.096670</td>\n",
       "      <td>-1.782892</td>\n",
       "      <td>0.468038</td>\n",
       "      <td>0.520366</td>\n",
       "    </tr>\n",
       "    <tr>\n",
       "      <th>3</th>\n",
       "      <td>0.291666</td>\n",
       "      <td>0.141583</td>\n",
       "      <td>0.529502</td>\n",
       "      <td>0.540832</td>\n",
       "      <td>-2.088724</td>\n",
       "      <td>-0.026673</td>\n",
       "      <td>0.520366</td>\n",
       "    </tr>\n",
       "    <tr>\n",
       "      <th>4</th>\n",
       "      <td>1.020035</td>\n",
       "      <td>-2.148416</td>\n",
       "      <td>0.364033</td>\n",
       "      <td>-0.893548</td>\n",
       "      <td>-1.553518</td>\n",
       "      <td>-0.191577</td>\n",
       "      <td>0.520366</td>\n",
       "    </tr>\n",
       "  </tbody>\n",
       "</table>\n",
       "</div>"
      ],
      "text/plain": [
       "   daily_minutes_hobby  daily_minutes_exercise  daily_minutes_grooming  \\\n",
       "0            -0.291029               -0.676274               -0.463314   \n",
       "1            -0.582377                0.468726               -1.456131   \n",
       "2            -0.145355                0.141583                0.198563   \n",
       "3             0.291666                0.141583                0.529502   \n",
       "4             1.020035               -2.148416                0.364033   \n",
       "\n",
       "   daily_minutes_commuting  daily_minutes_tv  daily_minutes_talking_to_friend  \\\n",
       "0                -1.849802          0.701993                         1.127653   \n",
       "1                 0.487707         -0.177274                        -0.191577   \n",
       "2                -0.096670         -1.782892                         0.468038   \n",
       "3                 0.540832         -2.088724                        -0.026673   \n",
       "4                -0.893548         -1.553518                        -0.191577   \n",
       "\n",
       "   happiness_rating  \n",
       "0          0.520366  \n",
       "1         -1.045868  \n",
       "2          0.520366  \n",
       "3          0.520366  \n",
       "4          0.520366  "
      ]
     },
     "execution_count": 15,
     "metadata": {},
     "output_type": "execute_result"
    }
   ],
   "source": [
    "df.head()"
   ]
  },
  {
   "cell_type": "code",
   "execution_count": 16,
   "metadata": {
    "collapsed": false,
    "jupyter": {
     "outputs_hidden": false
    }
   },
   "outputs": [
    {
     "data": {
      "text/plain": [
       "array([3.5794003 , 3.28807085, 4.1024152 , ..., 1.49984406, 4.79647859,\n",
       "       3.93650741])"
      ]
     },
     "execution_count": 16,
     "metadata": {},
     "output_type": "execute_result"
    }
   ],
   "source": [
    "pdist(df)"
   ]
  },
  {
   "cell_type": "code",
   "execution_count": 17,
   "metadata": {
    "collapsed": false,
    "jupyter": {
     "outputs_hidden": false
    }
   },
   "outputs": [
    {
     "data": {
      "text/plain": [
       "8.144139839456704"
      ]
     },
     "execution_count": 17,
     "metadata": {},
     "output_type": "execute_result"
    }
   ],
   "source": [
    "max(pdist(df))"
   ]
  },
  {
   "cell_type": "code",
   "execution_count": 18,
   "metadata": {
    "collapsed": false,
    "jupyter": {
     "outputs_hidden": false
    }
   },
   "outputs": [],
   "source": [
    "Z = linkage(df, method='ward')"
   ]
  },
  {
   "cell_type": "code",
   "execution_count": 19,
   "metadata": {
    "collapsed": false,
    "jupyter": {
     "outputs_hidden": false
    }
   },
   "outputs": [
    {
     "data": {
      "text/plain": [
       "(914, 4)"
      ]
     },
     "execution_count": 19,
     "metadata": {},
     "output_type": "execute_result"
    }
   ],
   "source": [
    "Z.shape"
   ]
  },
  {
   "cell_type": "code",
   "execution_count": 20,
   "metadata": {
    "collapsed": false,
    "jupyter": {
     "outputs_hidden": false
    }
   },
   "outputs": [
    {
     "data": {
      "text/plain": [
       "array([181.        , 224.        ,   0.24580317,   2.        ])"
      ]
     },
     "execution_count": 20,
     "metadata": {},
     "output_type": "execute_result"
    }
   ],
   "source": [
    "# Z provides a history of how clusters would be formed hierarchically\n",
    "Z[1]"
   ]
  },
  {
   "cell_type": "code",
   "execution_count": 21,
   "metadata": {
    "collapsed": false,
    "jupyter": {
     "outputs_hidden": false
    }
   },
   "outputs": [
    {
     "data": {
      "text/plain": [
       "array([ 73.        , 119.        ,   0.25797666,   2.        ])"
      ]
     },
     "execution_count": 21,
     "metadata": {},
     "output_type": "execute_result"
    }
   ],
   "source": [
    "Z[2]"
   ]
  },
  {
   "cell_type": "code",
   "execution_count": 22,
   "metadata": {
    "collapsed": false,
    "jupyter": {
     "outputs_hidden": false
    }
   },
   "outputs": [
    {
     "data": {
      "text/plain": [
       "array([1823.        , 1827.        ,   41.15745277,  915.        ])"
      ]
     },
     "execution_count": 22,
     "metadata": {},
     "output_type": "execute_result"
    }
   ],
   "source": [
    "Z[-1]"
   ]
  },
  {
   "cell_type": "markdown",
   "metadata": {},
   "source": [
    "# Visualize results"
   ]
  },
  {
   "cell_type": "code",
   "execution_count": 23,
   "metadata": {
    "collapsed": false,
    "jupyter": {
     "outputs_hidden": false
    }
   },
   "outputs": [
    {
     "data": {
      "image/png": "[encoded data removed]",
      "text/plain": [
       "<Figure size 432x288 with 1 Axes>"
      ]
     },
     "metadata": {
      "needs_background": "light"
     },
     "output_type": "display_data"
    }
   ],
   "source": [
    "# But we need a systematic way to visualize this\n",
    "# calculate dendrogram\n",
    "plt.title('Dendrogram')\n",
    "plt.ylabel('distance')\n",
    "dendrogram(\n",
    "    Z,\n",
    "    leaf_rotation=90,\n",
    "    leaf_font_size=4,\n",
    ")\n",
    "plt.show()"
   ]
  },
  {
   "cell_type": "code",
   "execution_count": 24,
   "metadata": {
    "collapsed": false,
    "jupyter": {
     "outputs_hidden": false
    }
   },
   "outputs": [
    {
     "data": {
      "image/png": "[encoded data removed]",
      "text/plain": [
       "<Figure size 432x288 with 1 Axes>"
      ]
     },
     "metadata": {
      "needs_background": "light"
     },
     "output_type": "display_data"
    }
   ],
   "source": [
    "plt.title('Truncated Dendrogram')\n",
    "plt.ylabel('distance')\n",
    "dendrogram(\n",
    "    Z,\n",
    "    truncate_mode='lastp',\n",
    "    p=7,\n",
    "    show_leaf_counts=True,\n",
    "    leaf_rotation=60,\n",
    "    leaf_font_size=15,\n",
    "    show_contracted=False,\n",
    ")\n",
    "plt.show()"
   ]
  },
  {
   "cell_type": "code",
   "execution_count": 25,
   "metadata": {
    "collapsed": false,
    "jupyter": {
     "outputs_hidden": false
    }
   },
   "outputs": [
    {
     "data": {
      "image/png": "[encoded data removed]",
      "text/plain": [
       "<Figure size 432x288 with 1 Axes>"
      ]
     },
     "metadata": {
      "needs_background": "light"
     },
     "output_type": "display_data"
    }
   ],
   "source": [
    "plt.title('Truncated Dendrogram')\n",
    "plt.ylabel('distance')\n",
    "dendrogram(\n",
    "    Z,\n",
    "    truncate_mode='lastp',\n",
    "    p=20,\n",
    "    show_leaf_counts=True,\n",
    "    leaf_rotation=60,\n",
    "    leaf_font_size=15,\n",
    "    show_contracted=False,\n",
    ")\n",
    "plt.show()"
   ]
  },
  {
   "cell_type": "code",
   "execution_count": 26,
   "metadata": {
    "collapsed": false,
    "jupyter": {
     "outputs_hidden": false
    }
   },
   "outputs": [
    {
     "data": {
      "text/plain": [
       "{1, 2, 3, 4, 5, 6}"
      ]
     },
     "execution_count": 26,
     "metadata": {},
     "output_type": "execute_result"
    }
   ],
   "source": [
    "# set number of clusters by max distance of jump & get cluster labels\n",
    "from scipy.cluster.hierarchy import fcluster\n",
    "max_d = 16\n",
    "clusters = fcluster(Z, max_d, criterion='distance')\n",
    "set(clusters)"
   ]
  },
  {
   "cell_type": "code",
   "execution_count": 27,
   "metadata": {
    "collapsed": false,
    "jupyter": {
     "outputs_hidden": false
    }
   },
   "outputs": [
    {
     "data": {
      "text/plain": [
       "(array([179, 164, 166,   0, 134, 121, 151]),\n",
       " array([1.        , 1.71428571, 2.42857143, 3.14285714, 3.85714286,\n",
       "        4.57142857, 5.28571429, 6.        ]))"
      ]
     },
     "execution_count": 27,
     "metadata": {},
     "output_type": "execute_result"
    }
   ],
   "source": [
    "np.histogram(clusters, bins=7)"
   ]
  },
  {
   "cell_type": "code",
   "execution_count": 28,
   "metadata": {
    "collapsed": false,
    "jupyter": {
     "outputs_hidden": false
    }
   },
   "outputs": [
    {
     "data": {
      "text/plain": [
       "{1, 2, 3, 4, 5, 6}"
      ]
     },
     "execution_count": 28,
     "metadata": {},
     "output_type": "execute_result"
    }
   ],
   "source": [
    "num_k = 6\n",
    "clusters = fcluster(Z, num_k, criterion='maxclust')\n",
    "set(clusters)"
   ]
  },
  {
   "cell_type": "code",
   "execution_count": 29,
   "metadata": {
    "collapsed": false,
    "jupyter": {
     "outputs_hidden": false
    }
   },
   "outputs": [
    {
     "data": {
      "text/plain": [
       "(array([179,   0, 164,   0, 166,   0, 134,   0, 121, 151]),\n",
       " array([1. , 1.5, 2. , 2.5, 3. , 3.5, 4. , 4.5, 5. , 5.5, 6. ]))"
      ]
     },
     "execution_count": 29,
     "metadata": {},
     "output_type": "execute_result"
    }
   ],
   "source": [
    "np.histogram(clusters)"
   ]
  },
  {
   "cell_type": "code",
   "execution_count": 30,
   "metadata": {},
   "outputs": [],
   "source": [
    "df_activities_happiness['cluster_assignment'] = clusters"
   ]
  },
  {
   "cell_type": "code",
   "execution_count": 31,
   "metadata": {
    "collapsed": false,
    "jupyter": {
     "outputs_hidden": false
    }
   },
   "outputs": [],
   "source": [
    "interesting_clusters = df_activities_happiness.groupby(\n",
    "    'cluster_assignment').daily_minutes_hobby.count()"
   ]
  },
  {
   "cell_type": "code",
   "execution_count": 32,
   "metadata": {
    "collapsed": false,
    "jupyter": {
     "outputs_hidden": false
    }
   },
   "outputs": [],
   "source": [
    "use_clusters = set(interesting_clusters[interesting_clusters > 30].index)"
   ]
  },
  {
   "cell_type": "code",
   "execution_count": 33,
   "metadata": {
    "collapsed": false,
    "jupyter": {
     "outputs_hidden": false
    }
   },
   "outputs": [
    {
     "data": {
      "text/plain": [
       "{1, 2, 3, 4, 5, 6}"
      ]
     },
     "execution_count": 33,
     "metadata": {},
     "output_type": "execute_result"
    }
   ],
   "source": [
    "use_clusters"
   ]
  },
  {
   "cell_type": "code",
   "execution_count": 34,
   "metadata": {
    "collapsed": false,
    "jupyter": {
     "outputs_hidden": false
    }
   },
   "outputs": [
    {
     "data": {
      "text/html": [
       "<div>\n",
       "<style scoped>\n",
       "    .dataframe tbody tr th:only-of-type {\n",
       "        vertical-align: middle;\n",
       "    }\n",
       "\n",
       "    .dataframe tbody tr th {\n",
       "        vertical-align: top;\n",
       "    }\n",
       "\n",
       "    .dataframe thead th {\n",
       "        text-align: right;\n",
       "    }\n",
       "</style>\n",
       "<table border=\"1\" class=\"dataframe\">\n",
       "  <thead>\n",
       "    <tr style=\"text-align: right;\">\n",
       "      <th></th>\n",
       "      <th>daily_minutes_hobby</th>\n",
       "      <th>daily_minutes_exercise</th>\n",
       "      <th>daily_minutes_grooming</th>\n",
       "      <th>daily_minutes_commuting</th>\n",
       "      <th>daily_minutes_tv</th>\n",
       "      <th>daily_minutes_talking_to_friend</th>\n",
       "      <th>happiness_rating</th>\n",
       "    </tr>\n",
       "    <tr>\n",
       "      <th>cluster_assignment</th>\n",
       "      <th></th>\n",
       "      <th></th>\n",
       "      <th></th>\n",
       "      <th></th>\n",
       "      <th></th>\n",
       "      <th></th>\n",
       "      <th></th>\n",
       "    </tr>\n",
       "  </thead>\n",
       "  <tbody>\n",
       "    <tr>\n",
       "      <th>1</th>\n",
       "      <td>21.340782</td>\n",
       "      <td>20.921788</td>\n",
       "      <td>24.770950</td>\n",
       "      <td>62.854749</td>\n",
       "      <td>84.094972</td>\n",
       "      <td>17.240223</td>\n",
       "      <td>0.843575</td>\n",
       "    </tr>\n",
       "    <tr>\n",
       "      <th>2</th>\n",
       "      <td>21.268293</td>\n",
       "      <td>19.298780</td>\n",
       "      <td>17.274390</td>\n",
       "      <td>22.554878</td>\n",
       "      <td>90.951220</td>\n",
       "      <td>19.042683</td>\n",
       "      <td>1.957317</td>\n",
       "    </tr>\n",
       "    <tr>\n",
       "      <th>3</th>\n",
       "      <td>21.192771</td>\n",
       "      <td>20.716867</td>\n",
       "      <td>17.765060</td>\n",
       "      <td>56.319277</td>\n",
       "      <td>27.783133</td>\n",
       "      <td>15.006024</td>\n",
       "      <td>2.012048</td>\n",
       "    </tr>\n",
       "    <tr>\n",
       "      <th>4</th>\n",
       "      <td>20.485075</td>\n",
       "      <td>19.761194</td>\n",
       "      <td>17.783582</td>\n",
       "      <td>56.298507</td>\n",
       "      <td>91.186567</td>\n",
       "      <td>3.194030</td>\n",
       "      <td>2.000000</td>\n",
       "    </tr>\n",
       "    <tr>\n",
       "      <th>5</th>\n",
       "      <td>20.570248</td>\n",
       "      <td>19.702479</td>\n",
       "      <td>5.710744</td>\n",
       "      <td>53.090909</td>\n",
       "      <td>73.586777</td>\n",
       "      <td>13.611570</td>\n",
       "      <td>0.975207</td>\n",
       "    </tr>\n",
       "    <tr>\n",
       "      <th>6</th>\n",
       "      <td>20.880795</td>\n",
       "      <td>20.145695</td>\n",
       "      <td>13.788079</td>\n",
       "      <td>78.761589</td>\n",
       "      <td>95.490066</td>\n",
       "      <td>20.516556</td>\n",
       "      <td>2.211921</td>\n",
       "    </tr>\n",
       "  </tbody>\n",
       "</table>\n",
       "</div>"
      ],
      "text/plain": [
       "                    daily_minutes_hobby  daily_minutes_exercise  \\\n",
       "cluster_assignment                                                \n",
       "1                             21.340782               20.921788   \n",
       "2                             21.268293               19.298780   \n",
       "3                             21.192771               20.716867   \n",
       "4                             20.485075               19.761194   \n",
       "5                             20.570248               19.702479   \n",
       "6                             20.880795               20.145695   \n",
       "\n",
       "                    daily_minutes_grooming  daily_minutes_commuting  \\\n",
       "cluster_assignment                                                    \n",
       "1                                24.770950                62.854749   \n",
       "2                                17.274390                22.554878   \n",
       "3                                17.765060                56.319277   \n",
       "4                                17.783582                56.298507   \n",
       "5                                 5.710744                53.090909   \n",
       "6                                13.788079                78.761589   \n",
       "\n",
       "                    daily_minutes_tv  daily_minutes_talking_to_friend  \\\n",
       "cluster_assignment                                                      \n",
       "1                          84.094972                        17.240223   \n",
       "2                          90.951220                        19.042683   \n",
       "3                          27.783133                        15.006024   \n",
       "4                          91.186567                         3.194030   \n",
       "5                          73.586777                        13.611570   \n",
       "6                          95.490066                        20.516556   \n",
       "\n",
       "                    happiness_rating  \n",
       "cluster_assignment                    \n",
       "1                           0.843575  \n",
       "2                           1.957317  \n",
       "3                           2.012048  \n",
       "4                           2.000000  \n",
       "5                           0.975207  \n",
       "6                           2.211921  "
      ]
     },
     "execution_count": 34,
     "metadata": {},
     "output_type": "execute_result"
    }
   ],
   "source": [
    "d = df_activities_happiness[df_activities_happiness.cluster_assignment.apply(\n",
    "    lambda x: x in use_clusters)].groupby('cluster_assignment').mean()\n",
    "d"
   ]
  },
  {
   "cell_type": "code",
   "execution_count": 35,
   "metadata": {
    "collapsed": false,
    "jupyter": {
     "outputs_hidden": false
    }
   },
   "outputs": [
    {
     "data": {
      "text/html": [
       "<div>\n",
       "<style scoped>\n",
       "    .dataframe tbody tr th:only-of-type {\n",
       "        vertical-align: middle;\n",
       "    }\n",
       "\n",
       "    .dataframe tbody tr th {\n",
       "        vertical-align: top;\n",
       "    }\n",
       "\n",
       "    .dataframe thead th {\n",
       "        text-align: right;\n",
       "    }\n",
       "</style>\n",
       "<table border=\"1\" class=\"dataframe\">\n",
       "  <thead>\n",
       "    <tr style=\"text-align: right;\">\n",
       "      <th></th>\n",
       "      <th>daily_minutes_hobby</th>\n",
       "      <th>daily_minutes_exercise</th>\n",
       "      <th>daily_minutes_grooming</th>\n",
       "      <th>daily_minutes_commuting</th>\n",
       "      <th>daily_minutes_tv</th>\n",
       "      <th>daily_minutes_talking_to_friend</th>\n",
       "      <th>happiness_rating</th>\n",
       "    </tr>\n",
       "  </thead>\n",
       "  <tbody>\n",
       "    <tr>\n",
       "      <th>0</th>\n",
       "      <td>1.143790</td>\n",
       "      <td>1.448824</td>\n",
       "      <td>1.504987</td>\n",
       "      <td>0.469760</td>\n",
       "      <td>0.298318</td>\n",
       "      <td>0.436054</td>\n",
       "      <td>-1.516408</td>\n",
       "    </tr>\n",
       "    <tr>\n",
       "      <th>1</th>\n",
       "      <td>0.928127</td>\n",
       "      <td>-1.382021</td>\n",
       "      <td>0.191392</td>\n",
       "      <td>-1.934282</td>\n",
       "      <td>0.594193</td>\n",
       "      <td>0.754040</td>\n",
       "      <td>0.535447</td>\n",
       "    </tr>\n",
       "    <tr>\n",
       "      <th>2</th>\n",
       "      <td>0.703443</td>\n",
       "      <td>1.091402</td>\n",
       "      <td>0.277370</td>\n",
       "      <td>0.079894</td>\n",
       "      <td>-2.131768</td>\n",
       "      <td>0.041901</td>\n",
       "      <td>0.636278</td>\n",
       "    </tr>\n",
       "    <tr>\n",
       "      <th>3</th>\n",
       "      <td>-1.402021</td>\n",
       "      <td>-0.575480</td>\n",
       "      <td>0.280616</td>\n",
       "      <td>0.078655</td>\n",
       "      <td>0.604349</td>\n",
       "      <td>-2.041948</td>\n",
       "      <td>0.614082</td>\n",
       "    </tr>\n",
       "    <tr>\n",
       "      <th>4</th>\n",
       "      <td>-1.148622</td>\n",
       "      <td>-0.677890</td>\n",
       "      <td>-1.834863</td>\n",
       "      <td>-0.112691</td>\n",
       "      <td>-0.155154</td>\n",
       "      <td>-0.204106</td>\n",
       "      <td>-1.273903</td>\n",
       "    </tr>\n",
       "    <tr>\n",
       "      <th>5</th>\n",
       "      <td>-0.224716</td>\n",
       "      <td>0.095166</td>\n",
       "      <td>-0.419501</td>\n",
       "      <td>1.418664</td>\n",
       "      <td>0.790062</td>\n",
       "      <td>1.014058</td>\n",
       "      <td>1.004504</td>\n",
       "    </tr>\n",
       "  </tbody>\n",
       "</table>\n",
       "</div>"
      ],
      "text/plain": [
       "   daily_minutes_hobby  daily_minutes_exercise  daily_minutes_grooming  \\\n",
       "0             1.143790                1.448824                1.504987   \n",
       "1             0.928127               -1.382021                0.191392   \n",
       "2             0.703443                1.091402                0.277370   \n",
       "3            -1.402021               -0.575480                0.280616   \n",
       "4            -1.148622               -0.677890               -1.834863   \n",
       "5            -0.224716                0.095166               -0.419501   \n",
       "\n",
       "   daily_minutes_commuting  daily_minutes_tv  daily_minutes_talking_to_friend  \\\n",
       "0                 0.469760          0.298318                         0.436054   \n",
       "1                -1.934282          0.594193                         0.754040   \n",
       "2                 0.079894         -2.131768                         0.041901   \n",
       "3                 0.078655          0.604349                        -2.041948   \n",
       "4                -0.112691         -0.155154                        -0.204106   \n",
       "5                 1.418664          0.790062                         1.014058   \n",
       "\n",
       "   happiness_rating  \n",
       "0         -1.516408  \n",
       "1          0.535447  \n",
       "2          0.636278  \n",
       "3          0.614082  \n",
       "4         -1.273903  \n",
       "5          1.004504  "
      ]
     },
     "execution_count": 35,
     "metadata": {},
     "output_type": "execute_result"
    }
   ],
   "source": [
    "pd.DataFrame(scale(d), columns=d.columns)"
   ]
  },
  {
   "cell_type": "markdown",
   "metadata": {},
   "source": [
    "# KMeans clustering instead of hierarchical clustering"
   ]
  },
  {
   "cell_type": "code",
   "execution_count": 36,
   "metadata": {},
   "outputs": [],
   "source": [
    "from sklearn.cluster import KMeans\n",
    "kmeans = KMeans(n_clusters=6, random_state=0).fit(df)"
   ]
  },
  {
   "cell_type": "code",
   "execution_count": 37,
   "metadata": {},
   "outputs": [],
   "source": [
    "df_activities_happiness['kmeans_cluster_assignments'] = kmeans.labels_"
   ]
  },
  {
   "cell_type": "code",
   "execution_count": 38,
   "metadata": {
    "collapsed": false,
    "jupyter": {
     "outputs_hidden": false
    }
   },
   "outputs": [
    {
     "data": {
      "text/plain": [
       "kmeans_cluster_assignments\n",
       "0    162\n",
       "1    180\n",
       "2    166\n",
       "3    121\n",
       "4    152\n",
       "5    134\n",
       "Name: daily_minutes_hobby, dtype: int64"
      ]
     },
     "execution_count": 38,
     "metadata": {},
     "output_type": "execute_result"
    }
   ],
   "source": [
    "df_activities_happiness.groupby(\n",
    "    'kmeans_cluster_assignments').daily_minutes_hobby.count()"
   ]
  },
  {
   "cell_type": "code",
   "execution_count": 39,
   "metadata": {
    "collapsed": false,
    "jupyter": {
     "outputs_hidden": false
    }
   },
   "outputs": [
    {
     "data": {
      "text/plain": [
       "cluster_assignment\n",
       "1    179\n",
       "2    164\n",
       "3    166\n",
       "4    134\n",
       "5    121\n",
       "6    151\n",
       "Name: daily_minutes_hobby, dtype: int64"
      ]
     },
     "execution_count": 39,
     "metadata": {},
     "output_type": "execute_result"
    }
   ],
   "source": [
    "df_activities_happiness.groupby(\n",
    "    'cluster_assignment').daily_minutes_hobby.count()"
   ]
  },
  {
   "cell_type": "code",
   "execution_count": 40,
   "metadata": {
    "collapsed": false,
    "jupyter": {
     "outputs_hidden": false
    }
   },
   "outputs": [
    {
     "data": {
      "text/plain": [
       "47.03585735622366"
      ]
     },
     "execution_count": 40,
     "metadata": {},
     "output_type": "execute_result"
    }
   ],
   "source": [
    "df_activities_happiness.groupby(\n",
    "    'kmeans_cluster_assignments').daily_minutes_hobby.var().mean()"
   ]
  },
  {
   "cell_type": "code",
   "execution_count": 41,
   "metadata": {
    "collapsed": false,
    "jupyter": {
     "outputs_hidden": false
    }
   },
   "outputs": [
    {
     "data": {
      "text/plain": [
       "47.03335118974865"
      ]
     },
     "execution_count": 41,
     "metadata": {},
     "output_type": "execute_result"
    }
   ],
   "source": [
    "df_activities_happiness.groupby(\n",
    "    'cluster_assignment').daily_minutes_hobby.var().mean()"
   ]
  },
  {
   "cell_type": "code",
   "execution_count": 42,
   "metadata": {
    "collapsed": false,
    "jupyter": {
     "outputs_hidden": false
    }
   },
   "outputs": [
    {
     "data": {
      "text/html": [
       "<div>\n",
       "<style scoped>\n",
       "    .dataframe tbody tr th:only-of-type {\n",
       "        vertical-align: middle;\n",
       "    }\n",
       "\n",
       "    .dataframe tbody tr th {\n",
       "        vertical-align: top;\n",
       "    }\n",
       "\n",
       "    .dataframe thead th {\n",
       "        text-align: right;\n",
       "    }\n",
       "</style>\n",
       "<table border=\"1\" class=\"dataframe\">\n",
       "  <thead>\n",
       "    <tr style=\"text-align: right;\">\n",
       "      <th></th>\n",
       "      <th>daily_minutes_hobby</th>\n",
       "      <th>daily_minutes_exercise</th>\n",
       "      <th>daily_minutes_grooming</th>\n",
       "      <th>daily_minutes_commuting</th>\n",
       "      <th>daily_minutes_tv</th>\n",
       "      <th>daily_minutes_talking_to_friend</th>\n",
       "      <th>happiness_rating</th>\n",
       "      <th>kmeans_cluster_assignments</th>\n",
       "    </tr>\n",
       "    <tr>\n",
       "      <th>cluster_assignment</th>\n",
       "      <th></th>\n",
       "      <th></th>\n",
       "      <th></th>\n",
       "      <th></th>\n",
       "      <th></th>\n",
       "      <th></th>\n",
       "      <th></th>\n",
       "      <th></th>\n",
       "    </tr>\n",
       "  </thead>\n",
       "  <tbody>\n",
       "    <tr>\n",
       "      <th>1</th>\n",
       "      <td>21.337079</td>\n",
       "      <td>20.994382</td>\n",
       "      <td>24.808989</td>\n",
       "      <td>63.022472</td>\n",
       "      <td>84.151685</td>\n",
       "      <td>17.219101</td>\n",
       "      <td>0.842697</td>\n",
       "      <td>1</td>\n",
       "    </tr>\n",
       "    <tr>\n",
       "      <th>2</th>\n",
       "      <td>23.000000</td>\n",
       "      <td>29.666667</td>\n",
       "      <td>20.666667</td>\n",
       "      <td>39.000000</td>\n",
       "      <td>87.000000</td>\n",
       "      <td>19.333333</td>\n",
       "      <td>1.333333</td>\n",
       "      <td>2</td>\n",
       "    </tr>\n",
       "    <tr>\n",
       "      <th>3</th>\n",
       "      <td>21.192771</td>\n",
       "      <td>20.716867</td>\n",
       "      <td>17.765060</td>\n",
       "      <td>56.319277</td>\n",
       "      <td>27.783133</td>\n",
       "      <td>15.006024</td>\n",
       "      <td>2.012048</td>\n",
       "      <td>2</td>\n",
       "    </tr>\n",
       "    <tr>\n",
       "      <th>4</th>\n",
       "      <td>20.485075</td>\n",
       "      <td>19.761194</td>\n",
       "      <td>17.783582</td>\n",
       "      <td>56.298507</td>\n",
       "      <td>91.186567</td>\n",
       "      <td>3.194030</td>\n",
       "      <td>2.000000</td>\n",
       "      <td>5</td>\n",
       "    </tr>\n",
       "    <tr>\n",
       "      <th>5</th>\n",
       "      <td>20.570248</td>\n",
       "      <td>19.702479</td>\n",
       "      <td>5.710744</td>\n",
       "      <td>53.090909</td>\n",
       "      <td>73.586777</td>\n",
       "      <td>13.611570</td>\n",
       "      <td>0.975207</td>\n",
       "      <td>3</td>\n",
       "    </tr>\n",
       "    <tr>\n",
       "      <th>6</th>\n",
       "      <td>20.880795</td>\n",
       "      <td>20.145695</td>\n",
       "      <td>13.788079</td>\n",
       "      <td>78.761589</td>\n",
       "      <td>95.490066</td>\n",
       "      <td>20.516556</td>\n",
       "      <td>2.211921</td>\n",
       "      <td>4</td>\n",
       "    </tr>\n",
       "  </tbody>\n",
       "</table>\n",
       "</div>"
      ],
      "text/plain": [
       "                    daily_minutes_hobby  daily_minutes_exercise  \\\n",
       "cluster_assignment                                                \n",
       "1                             21.337079               20.994382   \n",
       "2                             23.000000               29.666667   \n",
       "3                             21.192771               20.716867   \n",
       "4                             20.485075               19.761194   \n",
       "5                             20.570248               19.702479   \n",
       "6                             20.880795               20.145695   \n",
       "\n",
       "                    daily_minutes_grooming  daily_minutes_commuting  \\\n",
       "cluster_assignment                                                    \n",
       "1                                24.808989                63.022472   \n",
       "2                                20.666667                39.000000   \n",
       "3                                17.765060                56.319277   \n",
       "4                                17.783582                56.298507   \n",
       "5                                 5.710744                53.090909   \n",
       "6                                13.788079                78.761589   \n",
       "\n",
       "                    daily_minutes_tv  daily_minutes_talking_to_friend  \\\n",
       "cluster_assignment                                                      \n",
       "1                          84.151685                        17.219101   \n",
       "2                          87.000000                        19.333333   \n",
       "3                          27.783133                        15.006024   \n",
       "4                          91.186567                         3.194030   \n",
       "5                          73.586777                        13.611570   \n",
       "6                          95.490066                        20.516556   \n",
       "\n",
       "                    happiness_rating  kmeans_cluster_assignments  \n",
       "cluster_assignment                                                \n",
       "1                           0.842697                           1  \n",
       "2                           1.333333                           2  \n",
       "3                           2.012048                           2  \n",
       "4                           2.000000                           5  \n",
       "5                           0.975207                           3  \n",
       "6                           2.211921                           4  "
      ]
     },
     "execution_count": 42,
     "metadata": {},
     "output_type": "execute_result"
    }
   ],
   "source": [
    "d2 = df_activities_happiness[df_activities_happiness.kmeans_cluster_assignments.apply(\n",
    "    lambda x: x in use_clusters)].groupby('cluster_assignment').mean()\n",
    "d2"
   ]
  },
  {
   "cell_type": "code",
   "execution_count": null,
   "metadata": {
    "collapsed": true,
    "jupyter": {
     "outputs_hidden": true
    }
   },
   "outputs": [],
   "source": []
  }
 ],
 "metadata": {
  "anaconda-cloud": {},
  "kernelspec": {
   "display_name": "Python 3",
   "language": "python",
   "name": "python3"
  },
  "language_info": {
   "codemirror_mode": {
    "name": "ipython",
    "version": 3
   },
   "file_extension": ".py",
   "mimetype": "text/x-python",
   "name": "python",
   "nbconvert_exporter": "python",
   "pygments_lexer": "ipython3",
   "version": "3.8.0"
  }
 },
 "nbformat": 4,
 "nbformat_minor": 4
}
