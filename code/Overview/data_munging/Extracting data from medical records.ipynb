{
 "cells": [
  {
   "cell_type": "code",
   "execution_count": 1,
   "metadata": {},
   "outputs": [],
   "source": [
    "%matplotlib inline\n",
    "import re\n",
    "import pandas as pd"
   ]
  },
  {
   "cell_type": "markdown",
   "metadata": {},
   "source": [
    "# Open the doc"
   ]
  },
  {
   "cell_type": "code",
   "execution_count": 2,
   "metadata": {},
   "outputs": [],
   "source": [
    "with open('VA_My_HealtheVet_Blue_Button_Sample_Version_12_10.txt') as f:\n",
    "    content = f.readlines()"
   ]
  },
  {
   "cell_type": "code",
   "execution_count": 3,
   "metadata": {
    "collapsed": false,
    "jupyter": {
     "outputs_hidden": false
    }
   },
   "outputs": [],
   "source": [
    "full_doc = \"\".join(content)"
   ]
  },
  {
   "cell_type": "markdown",
   "metadata": {},
   "source": [
    "# Vaccination history"
   ]
  },
  {
   "cell_type": "code",
   "execution_count": 4,
   "metadata": {},
   "outputs": [],
   "source": [
    "search_string = \"\"\"\n",
    "Immunization:(.*)?\\n\n",
    "\"\"\""
   ]
  },
  {
   "cell_type": "code",
   "execution_count": 5,
   "metadata": {},
   "outputs": [],
   "source": [
    "search_string = \"Immunization:\\s+(.*?)\\s+.*?Date Received:\\s+(.*?)$\""
   ]
  },
  {
   "cell_type": "code",
   "execution_count": 6,
   "metadata": {
    "collapsed": false,
    "jupyter": {
     "outputs_hidden": false
    }
   },
   "outputs": [],
   "source": [
    "results = re.findall(search_string, full_doc, re.DOTALL | re.MULTILINE)"
   ]
  },
  {
   "cell_type": "code",
   "execution_count": 7,
   "metadata": {
    "collapsed": false,
    "jupyter": {
     "outputs_hidden": false
    }
   },
   "outputs": [
    {
     "data": {
      "text/plain": [
       "[('INFLUENZA-H1N1-09,', '07 Dec 2012 @ 1155'),\n",
       " ('INFLUENZA-H1N1-09,', '01 Oct 2012 @ 1200'),\n",
       " ('PNEUMOCOCCAL', '06 Mar 2011 @ 0900'),\n",
       " ('PNEUMOVAX', '06 Mar 2011 @ 0900'),\n",
       " ('TETANUS', '07 Dec 2012 @ 1155'),\n",
       " ('Tetanus', '07 Jan 2013'),\n",
       " ('Tetanus', '18 Jul 2010')]"
      ]
     },
     "execution_count": 7,
     "metadata": {},
     "output_type": "execute_result"
    }
   ],
   "source": [
    "results"
   ]
  },
  {
   "cell_type": "code",
   "execution_count": 8,
   "metadata": {
    "collapsed": false,
    "jupyter": {
     "outputs_hidden": false
    }
   },
   "outputs": [],
   "source": [
    "vax_df = pd.DataFrame(results, columns=['vaccine', 'vax_date'])"
   ]
  },
  {
   "cell_type": "code",
   "execution_count": 9,
   "metadata": {
    "collapsed": false,
    "jupyter": {
     "outputs_hidden": false
    }
   },
   "outputs": [
    {
     "data": {
      "text/html": [
       "<div>\n",
       "<style scoped>\n",
       "    .dataframe tbody tr th:only-of-type {\n",
       "        vertical-align: middle;\n",
       "    }\n",
       "\n",
       "    .dataframe tbody tr th {\n",
       "        vertical-align: top;\n",
       "    }\n",
       "\n",
       "    .dataframe thead th {\n",
       "        text-align: right;\n",
       "    }\n",
       "</style>\n",
       "<table border=\"1\" class=\"dataframe\">\n",
       "  <thead>\n",
       "    <tr style=\"text-align: right;\">\n",
       "      <th></th>\n",
       "      <th>vaccine</th>\n",
       "      <th>vax_date</th>\n",
       "    </tr>\n",
       "  </thead>\n",
       "  <tbody>\n",
       "    <tr>\n",
       "      <th>0</th>\n",
       "      <td>INFLUENZA-H1N1-09,</td>\n",
       "      <td>07 Dec 2012 @ 1155</td>\n",
       "    </tr>\n",
       "    <tr>\n",
       "      <th>1</th>\n",
       "      <td>INFLUENZA-H1N1-09,</td>\n",
       "      <td>01 Oct 2012 @ 1200</td>\n",
       "    </tr>\n",
       "    <tr>\n",
       "      <th>2</th>\n",
       "      <td>PNEUMOCOCCAL</td>\n",
       "      <td>06 Mar 2011 @ 0900</td>\n",
       "    </tr>\n",
       "    <tr>\n",
       "      <th>3</th>\n",
       "      <td>PNEUMOVAX</td>\n",
       "      <td>06 Mar 2011 @ 0900</td>\n",
       "    </tr>\n",
       "    <tr>\n",
       "      <th>4</th>\n",
       "      <td>TETANUS</td>\n",
       "      <td>07 Dec 2012 @ 1155</td>\n",
       "    </tr>\n",
       "    <tr>\n",
       "      <th>5</th>\n",
       "      <td>Tetanus</td>\n",
       "      <td>07 Jan 2013</td>\n",
       "    </tr>\n",
       "    <tr>\n",
       "      <th>6</th>\n",
       "      <td>Tetanus</td>\n",
       "      <td>18 Jul 2010</td>\n",
       "    </tr>\n",
       "  </tbody>\n",
       "</table>\n",
       "</div>"
      ],
      "text/plain": [
       "              vaccine            vax_date\n",
       "0  INFLUENZA-H1N1-09,  07 Dec 2012 @ 1155\n",
       "1  INFLUENZA-H1N1-09,  01 Oct 2012 @ 1200\n",
       "2        PNEUMOCOCCAL  06 Mar 2011 @ 0900\n",
       "3           PNEUMOVAX  06 Mar 2011 @ 0900\n",
       "4             TETANUS  07 Dec 2012 @ 1155\n",
       "5             Tetanus         07 Jan 2013\n",
       "6             Tetanus         18 Jul 2010"
      ]
     },
     "execution_count": 9,
     "metadata": {},
     "output_type": "execute_result"
    }
   ],
   "source": [
    "vax_df"
   ]
  },
  {
   "cell_type": "code",
   "execution_count": 10,
   "metadata": {
    "collapsed": false,
    "jupyter": {
     "outputs_hidden": false
    }
   },
   "outputs": [],
   "source": [
    "def strip_extra(s):\n",
    "    if \"@\" in s:\n",
    "        cutoff = s.index(\"@\")\n",
    "        s = s[:cutoff]\n",
    "    return(s)"
   ]
  },
  {
   "cell_type": "code",
   "execution_count": 11,
   "metadata": {
    "collapsed": false,
    "jupyter": {
     "outputs_hidden": false
    }
   },
   "outputs": [],
   "source": [
    "vax_df['date'] = vax_df.vax_date.apply(lambda x: pd.Timestamp(strip_extra(x)))"
   ]
  },
  {
   "cell_type": "code",
   "execution_count": 12,
   "metadata": {
    "collapsed": false,
    "jupyter": {
     "outputs_hidden": false
    }
   },
   "outputs": [
    {
     "data": {
      "text/html": [
       "<div>\n",
       "<style scoped>\n",
       "    .dataframe tbody tr th:only-of-type {\n",
       "        vertical-align: middle;\n",
       "    }\n",
       "\n",
       "    .dataframe tbody tr th {\n",
       "        vertical-align: top;\n",
       "    }\n",
       "\n",
       "    .dataframe thead th {\n",
       "        text-align: right;\n",
       "    }\n",
       "</style>\n",
       "<table border=\"1\" class=\"dataframe\">\n",
       "  <thead>\n",
       "    <tr style=\"text-align: right;\">\n",
       "      <th></th>\n",
       "      <th>vaccine</th>\n",
       "      <th>vax_date</th>\n",
       "      <th>date</th>\n",
       "    </tr>\n",
       "  </thead>\n",
       "  <tbody>\n",
       "    <tr>\n",
       "      <th>0</th>\n",
       "      <td>INFLUENZA-H1N1-09,</td>\n",
       "      <td>07 Dec 2012 @ 1155</td>\n",
       "      <td>2012-12-07</td>\n",
       "    </tr>\n",
       "    <tr>\n",
       "      <th>1</th>\n",
       "      <td>INFLUENZA-H1N1-09,</td>\n",
       "      <td>01 Oct 2012 @ 1200</td>\n",
       "      <td>2012-10-01</td>\n",
       "    </tr>\n",
       "    <tr>\n",
       "      <th>2</th>\n",
       "      <td>PNEUMOCOCCAL</td>\n",
       "      <td>06 Mar 2011 @ 0900</td>\n",
       "      <td>2011-03-06</td>\n",
       "    </tr>\n",
       "    <tr>\n",
       "      <th>3</th>\n",
       "      <td>PNEUMOVAX</td>\n",
       "      <td>06 Mar 2011 @ 0900</td>\n",
       "      <td>2011-03-06</td>\n",
       "    </tr>\n",
       "    <tr>\n",
       "      <th>4</th>\n",
       "      <td>TETANUS</td>\n",
       "      <td>07 Dec 2012 @ 1155</td>\n",
       "      <td>2012-12-07</td>\n",
       "    </tr>\n",
       "    <tr>\n",
       "      <th>5</th>\n",
       "      <td>Tetanus</td>\n",
       "      <td>07 Jan 2013</td>\n",
       "      <td>2013-01-07</td>\n",
       "    </tr>\n",
       "    <tr>\n",
       "      <th>6</th>\n",
       "      <td>Tetanus</td>\n",
       "      <td>18 Jul 2010</td>\n",
       "      <td>2010-07-18</td>\n",
       "    </tr>\n",
       "  </tbody>\n",
       "</table>\n",
       "</div>"
      ],
      "text/plain": [
       "              vaccine            vax_date       date\n",
       "0  INFLUENZA-H1N1-09,  07 Dec 2012 @ 1155 2012-12-07\n",
       "1  INFLUENZA-H1N1-09,  01 Oct 2012 @ 1200 2012-10-01\n",
       "2        PNEUMOCOCCAL  06 Mar 2011 @ 0900 2011-03-06\n",
       "3           PNEUMOVAX  06 Mar 2011 @ 0900 2011-03-06\n",
       "4             TETANUS  07 Dec 2012 @ 1155 2012-12-07\n",
       "5             Tetanus         07 Jan 2013 2013-01-07\n",
       "6             Tetanus         18 Jul 2010 2010-07-18"
      ]
     },
     "execution_count": 12,
     "metadata": {},
     "output_type": "execute_result"
    }
   ],
   "source": [
    "vax_df"
   ]
  },
  {
   "cell_type": "code",
   "execution_count": 13,
   "metadata": {},
   "outputs": [],
   "source": [
    "vax_df['clinically_documented'] = vax_df.vax_date.apply(lambda x: \"@\" in x)"
   ]
  },
  {
   "cell_type": "code",
   "execution_count": 14,
   "metadata": {
    "collapsed": false,
    "jupyter": {
     "outputs_hidden": false
    }
   },
   "outputs": [
    {
     "data": {
      "text/html": [
       "<div>\n",
       "<style scoped>\n",
       "    .dataframe tbody tr th:only-of-type {\n",
       "        vertical-align: middle;\n",
       "    }\n",
       "\n",
       "    .dataframe tbody tr th {\n",
       "        vertical-align: top;\n",
       "    }\n",
       "\n",
       "    .dataframe thead th {\n",
       "        text-align: right;\n",
       "    }\n",
       "</style>\n",
       "<table border=\"1\" class=\"dataframe\">\n",
       "  <thead>\n",
       "    <tr style=\"text-align: right;\">\n",
       "      <th></th>\n",
       "      <th>vaccine</th>\n",
       "      <th>vax_date</th>\n",
       "      <th>date</th>\n",
       "      <th>clinically_documented</th>\n",
       "    </tr>\n",
       "  </thead>\n",
       "  <tbody>\n",
       "    <tr>\n",
       "      <th>0</th>\n",
       "      <td>INFLUENZA-H1N1-09,</td>\n",
       "      <td>07 Dec 2012 @ 1155</td>\n",
       "      <td>2012-12-07</td>\n",
       "      <td>True</td>\n",
       "    </tr>\n",
       "    <tr>\n",
       "      <th>1</th>\n",
       "      <td>INFLUENZA-H1N1-09,</td>\n",
       "      <td>01 Oct 2012 @ 1200</td>\n",
       "      <td>2012-10-01</td>\n",
       "      <td>True</td>\n",
       "    </tr>\n",
       "    <tr>\n",
       "      <th>2</th>\n",
       "      <td>PNEUMOCOCCAL</td>\n",
       "      <td>06 Mar 2011 @ 0900</td>\n",
       "      <td>2011-03-06</td>\n",
       "      <td>True</td>\n",
       "    </tr>\n",
       "    <tr>\n",
       "      <th>3</th>\n",
       "      <td>PNEUMOVAX</td>\n",
       "      <td>06 Mar 2011 @ 0900</td>\n",
       "      <td>2011-03-06</td>\n",
       "      <td>True</td>\n",
       "    </tr>\n",
       "    <tr>\n",
       "      <th>4</th>\n",
       "      <td>TETANUS</td>\n",
       "      <td>07 Dec 2012 @ 1155</td>\n",
       "      <td>2012-12-07</td>\n",
       "      <td>True</td>\n",
       "    </tr>\n",
       "    <tr>\n",
       "      <th>5</th>\n",
       "      <td>Tetanus</td>\n",
       "      <td>07 Jan 2013</td>\n",
       "      <td>2013-01-07</td>\n",
       "      <td>False</td>\n",
       "    </tr>\n",
       "    <tr>\n",
       "      <th>6</th>\n",
       "      <td>Tetanus</td>\n",
       "      <td>18 Jul 2010</td>\n",
       "      <td>2010-07-18</td>\n",
       "      <td>False</td>\n",
       "    </tr>\n",
       "  </tbody>\n",
       "</table>\n",
       "</div>"
      ],
      "text/plain": [
       "              vaccine            vax_date       date  clinically_documented\n",
       "0  INFLUENZA-H1N1-09,  07 Dec 2012 @ 1155 2012-12-07                   True\n",
       "1  INFLUENZA-H1N1-09,  01 Oct 2012 @ 1200 2012-10-01                   True\n",
       "2        PNEUMOCOCCAL  06 Mar 2011 @ 0900 2011-03-06                   True\n",
       "3           PNEUMOVAX  06 Mar 2011 @ 0900 2011-03-06                   True\n",
       "4             TETANUS  07 Dec 2012 @ 1155 2012-12-07                   True\n",
       "5             Tetanus         07 Jan 2013 2013-01-07                  False\n",
       "6             Tetanus         18 Jul 2010 2010-07-18                  False"
      ]
     },
     "execution_count": 14,
     "metadata": {},
     "output_type": "execute_result"
    }
   ],
   "source": [
    "vax_df"
   ]
  },
  {
   "cell_type": "code",
   "execution_count": 15,
   "metadata": {},
   "outputs": [],
   "source": [
    "vax_df.sort_values('date', inplace=True)"
   ]
  },
  {
   "cell_type": "code",
   "execution_count": 16,
   "metadata": {
    "collapsed": false,
    "jupyter": {
     "outputs_hidden": false
    }
   },
   "outputs": [
    {
     "data": {
      "text/html": [
       "<div>\n",
       "<style scoped>\n",
       "    .dataframe tbody tr th:only-of-type {\n",
       "        vertical-align: middle;\n",
       "    }\n",
       "\n",
       "    .dataframe tbody tr th {\n",
       "        vertical-align: top;\n",
       "    }\n",
       "\n",
       "    .dataframe thead th {\n",
       "        text-align: right;\n",
       "    }\n",
       "</style>\n",
       "<table border=\"1\" class=\"dataframe\">\n",
       "  <thead>\n",
       "    <tr style=\"text-align: right;\">\n",
       "      <th></th>\n",
       "      <th>vaccine</th>\n",
       "      <th>vax_date</th>\n",
       "      <th>date</th>\n",
       "      <th>clinically_documented</th>\n",
       "    </tr>\n",
       "  </thead>\n",
       "  <tbody>\n",
       "    <tr>\n",
       "      <th>6</th>\n",
       "      <td>Tetanus</td>\n",
       "      <td>18 Jul 2010</td>\n",
       "      <td>2010-07-18</td>\n",
       "      <td>False</td>\n",
       "    </tr>\n",
       "    <tr>\n",
       "      <th>2</th>\n",
       "      <td>PNEUMOCOCCAL</td>\n",
       "      <td>06 Mar 2011 @ 0900</td>\n",
       "      <td>2011-03-06</td>\n",
       "      <td>True</td>\n",
       "    </tr>\n",
       "    <tr>\n",
       "      <th>3</th>\n",
       "      <td>PNEUMOVAX</td>\n",
       "      <td>06 Mar 2011 @ 0900</td>\n",
       "      <td>2011-03-06</td>\n",
       "      <td>True</td>\n",
       "    </tr>\n",
       "    <tr>\n",
       "      <th>1</th>\n",
       "      <td>INFLUENZA-H1N1-09,</td>\n",
       "      <td>01 Oct 2012 @ 1200</td>\n",
       "      <td>2012-10-01</td>\n",
       "      <td>True</td>\n",
       "    </tr>\n",
       "    <tr>\n",
       "      <th>0</th>\n",
       "      <td>INFLUENZA-H1N1-09,</td>\n",
       "      <td>07 Dec 2012 @ 1155</td>\n",
       "      <td>2012-12-07</td>\n",
       "      <td>True</td>\n",
       "    </tr>\n",
       "    <tr>\n",
       "      <th>4</th>\n",
       "      <td>TETANUS</td>\n",
       "      <td>07 Dec 2012 @ 1155</td>\n",
       "      <td>2012-12-07</td>\n",
       "      <td>True</td>\n",
       "    </tr>\n",
       "    <tr>\n",
       "      <th>5</th>\n",
       "      <td>Tetanus</td>\n",
       "      <td>07 Jan 2013</td>\n",
       "      <td>2013-01-07</td>\n",
       "      <td>False</td>\n",
       "    </tr>\n",
       "  </tbody>\n",
       "</table>\n",
       "</div>"
      ],
      "text/plain": [
       "              vaccine            vax_date       date  clinically_documented\n",
       "6             Tetanus         18 Jul 2010 2010-07-18                  False\n",
       "2        PNEUMOCOCCAL  06 Mar 2011 @ 0900 2011-03-06                   True\n",
       "3           PNEUMOVAX  06 Mar 2011 @ 0900 2011-03-06                   True\n",
       "1  INFLUENZA-H1N1-09,  01 Oct 2012 @ 1200 2012-10-01                   True\n",
       "0  INFLUENZA-H1N1-09,  07 Dec 2012 @ 1155 2012-12-07                   True\n",
       "4             TETANUS  07 Dec 2012 @ 1155 2012-12-07                   True\n",
       "5             Tetanus         07 Jan 2013 2013-01-07                  False"
      ]
     },
     "execution_count": 16,
     "metadata": {},
     "output_type": "execute_result"
    }
   ],
   "source": [
    "vax_df"
   ]
  },
  {
   "cell_type": "code",
   "execution_count": 17,
   "metadata": {
    "collapsed": false,
    "jupyter": {
     "outputs_hidden": false
    }
   },
   "outputs": [],
   "source": [
    "vax_df['vaccine_matching'] = vax_df.vaccine.apply(lambda x: x[:6].upper())"
   ]
  },
  {
   "cell_type": "code",
   "execution_count": 18,
   "metadata": {
    "collapsed": false,
    "jupyter": {
     "outputs_hidden": false
    }
   },
   "outputs": [
    {
     "data": {
      "text/html": [
       "<div>\n",
       "<style scoped>\n",
       "    .dataframe tbody tr th:only-of-type {\n",
       "        vertical-align: middle;\n",
       "    }\n",
       "\n",
       "    .dataframe tbody tr th {\n",
       "        vertical-align: top;\n",
       "    }\n",
       "\n",
       "    .dataframe thead th {\n",
       "        text-align: right;\n",
       "    }\n",
       "</style>\n",
       "<table border=\"1\" class=\"dataframe\">\n",
       "  <thead>\n",
       "    <tr style=\"text-align: right;\">\n",
       "      <th></th>\n",
       "      <th>vaccine</th>\n",
       "      <th>vax_date</th>\n",
       "      <th>date</th>\n",
       "      <th>clinically_documented</th>\n",
       "      <th>vaccine_matching</th>\n",
       "    </tr>\n",
       "  </thead>\n",
       "  <tbody>\n",
       "    <tr>\n",
       "      <th>6</th>\n",
       "      <td>Tetanus</td>\n",
       "      <td>18 Jul 2010</td>\n",
       "      <td>2010-07-18</td>\n",
       "      <td>False</td>\n",
       "      <td>TETANU</td>\n",
       "    </tr>\n",
       "    <tr>\n",
       "      <th>2</th>\n",
       "      <td>PNEUMOCOCCAL</td>\n",
       "      <td>06 Mar 2011 @ 0900</td>\n",
       "      <td>2011-03-06</td>\n",
       "      <td>True</td>\n",
       "      <td>PNEUMO</td>\n",
       "    </tr>\n",
       "    <tr>\n",
       "      <th>3</th>\n",
       "      <td>PNEUMOVAX</td>\n",
       "      <td>06 Mar 2011 @ 0900</td>\n",
       "      <td>2011-03-06</td>\n",
       "      <td>True</td>\n",
       "      <td>PNEUMO</td>\n",
       "    </tr>\n",
       "    <tr>\n",
       "      <th>1</th>\n",
       "      <td>INFLUENZA-H1N1-09,</td>\n",
       "      <td>01 Oct 2012 @ 1200</td>\n",
       "      <td>2012-10-01</td>\n",
       "      <td>True</td>\n",
       "      <td>INFLUE</td>\n",
       "    </tr>\n",
       "    <tr>\n",
       "      <th>0</th>\n",
       "      <td>INFLUENZA-H1N1-09,</td>\n",
       "      <td>07 Dec 2012 @ 1155</td>\n",
       "      <td>2012-12-07</td>\n",
       "      <td>True</td>\n",
       "      <td>INFLUE</td>\n",
       "    </tr>\n",
       "    <tr>\n",
       "      <th>4</th>\n",
       "      <td>TETANUS</td>\n",
       "      <td>07 Dec 2012 @ 1155</td>\n",
       "      <td>2012-12-07</td>\n",
       "      <td>True</td>\n",
       "      <td>TETANU</td>\n",
       "    </tr>\n",
       "    <tr>\n",
       "      <th>5</th>\n",
       "      <td>Tetanus</td>\n",
       "      <td>07 Jan 2013</td>\n",
       "      <td>2013-01-07</td>\n",
       "      <td>False</td>\n",
       "      <td>TETANU</td>\n",
       "    </tr>\n",
       "  </tbody>\n",
       "</table>\n",
       "</div>"
      ],
      "text/plain": [
       "              vaccine            vax_date       date  clinically_documented  \\\n",
       "6             Tetanus         18 Jul 2010 2010-07-18                  False   \n",
       "2        PNEUMOCOCCAL  06 Mar 2011 @ 0900 2011-03-06                   True   \n",
       "3           PNEUMOVAX  06 Mar 2011 @ 0900 2011-03-06                   True   \n",
       "1  INFLUENZA-H1N1-09,  01 Oct 2012 @ 1200 2012-10-01                   True   \n",
       "0  INFLUENZA-H1N1-09,  07 Dec 2012 @ 1155 2012-12-07                   True   \n",
       "4             TETANUS  07 Dec 2012 @ 1155 2012-12-07                   True   \n",
       "5             Tetanus         07 Jan 2013 2013-01-07                  False   \n",
       "\n",
       "  vaccine_matching  \n",
       "6           TETANU  \n",
       "2           PNEUMO  \n",
       "3           PNEUMO  \n",
       "1           INFLUE  \n",
       "0           INFLUE  \n",
       "4           TETANU  \n",
       "5           TETANU  "
      ]
     },
     "execution_count": 18,
     "metadata": {},
     "output_type": "execute_result"
    }
   ],
   "source": [
    "vax_df"
   ]
  },
  {
   "cell_type": "code",
   "execution_count": 19,
   "metadata": {
    "collapsed": false,
    "jupyter": {
     "outputs_hidden": false
    }
   },
   "outputs": [
    {
     "data": {
      "text/html": [
       "<div>\n",
       "<style scoped>\n",
       "    .dataframe tbody tr th:only-of-type {\n",
       "        vertical-align: middle;\n",
       "    }\n",
       "\n",
       "    .dataframe tbody tr th {\n",
       "        vertical-align: top;\n",
       "    }\n",
       "\n",
       "    .dataframe thead th {\n",
       "        text-align: right;\n",
       "    }\n",
       "</style>\n",
       "<table border=\"1\" class=\"dataframe\">\n",
       "  <thead>\n",
       "    <tr style=\"text-align: right;\">\n",
       "      <th></th>\n",
       "      <th>vaccine</th>\n",
       "      <th>vax_date</th>\n",
       "      <th>date</th>\n",
       "      <th>clinically_documented</th>\n",
       "    </tr>\n",
       "    <tr>\n",
       "      <th>vaccine_matching</th>\n",
       "      <th></th>\n",
       "      <th></th>\n",
       "      <th></th>\n",
       "      <th></th>\n",
       "    </tr>\n",
       "  </thead>\n",
       "  <tbody>\n",
       "    <tr>\n",
       "      <th>TETANU</th>\n",
       "      <td>Tetanus</td>\n",
       "      <td>18 Jul 2010</td>\n",
       "      <td>2010-07-18</td>\n",
       "      <td>False</td>\n",
       "    </tr>\n",
       "    <tr>\n",
       "      <th>PNEUMO</th>\n",
       "      <td>PNEUMOCOCCAL</td>\n",
       "      <td>06 Mar 2011 @ 0900</td>\n",
       "      <td>2011-03-06</td>\n",
       "      <td>True</td>\n",
       "    </tr>\n",
       "    <tr>\n",
       "      <th>PNEUMO</th>\n",
       "      <td>PNEUMOVAX</td>\n",
       "      <td>06 Mar 2011 @ 0900</td>\n",
       "      <td>2011-03-06</td>\n",
       "      <td>True</td>\n",
       "    </tr>\n",
       "    <tr>\n",
       "      <th>INFLUE</th>\n",
       "      <td>INFLUENZA-H1N1-09,</td>\n",
       "      <td>01 Oct 2012 @ 1200</td>\n",
       "      <td>2012-10-01</td>\n",
       "      <td>True</td>\n",
       "    </tr>\n",
       "    <tr>\n",
       "      <th>INFLUE</th>\n",
       "      <td>INFLUENZA-H1N1-09,</td>\n",
       "      <td>07 Dec 2012 @ 1155</td>\n",
       "      <td>2012-12-07</td>\n",
       "      <td>True</td>\n",
       "    </tr>\n",
       "    <tr>\n",
       "      <th>TETANU</th>\n",
       "      <td>TETANUS</td>\n",
       "      <td>07 Dec 2012 @ 1155</td>\n",
       "      <td>2012-12-07</td>\n",
       "      <td>True</td>\n",
       "    </tr>\n",
       "    <tr>\n",
       "      <th>TETANU</th>\n",
       "      <td>Tetanus</td>\n",
       "      <td>07 Jan 2013</td>\n",
       "      <td>2013-01-07</td>\n",
       "      <td>False</td>\n",
       "    </tr>\n",
       "  </tbody>\n",
       "</table>\n",
       "</div>"
      ],
      "text/plain": [
       "                             vaccine            vax_date       date  \\\n",
       "vaccine_matching                                                      \n",
       "TETANU                       Tetanus         18 Jul 2010 2010-07-18   \n",
       "PNEUMO                  PNEUMOCOCCAL  06 Mar 2011 @ 0900 2011-03-06   \n",
       "PNEUMO                     PNEUMOVAX  06 Mar 2011 @ 0900 2011-03-06   \n",
       "INFLUE            INFLUENZA-H1N1-09,  01 Oct 2012 @ 1200 2012-10-01   \n",
       "INFLUE            INFLUENZA-H1N1-09,  07 Dec 2012 @ 1155 2012-12-07   \n",
       "TETANU                       TETANUS  07 Dec 2012 @ 1155 2012-12-07   \n",
       "TETANU                       Tetanus         07 Jan 2013 2013-01-07   \n",
       "\n",
       "                  clinically_documented  \n",
       "vaccine_matching                         \n",
       "TETANU                            False  \n",
       "PNEUMO                             True  \n",
       "PNEUMO                             True  \n",
       "INFLUE                             True  \n",
       "INFLUE                             True  \n",
       "TETANU                             True  \n",
       "TETANU                            False  "
      ]
     },
     "execution_count": 19,
     "metadata": {},
     "output_type": "execute_result"
    }
   ],
   "source": [
    "vax_df.set_index('vaccine_matching')"
   ]
  },
  {
   "cell_type": "code",
   "execution_count": 20,
   "metadata": {
    "collapsed": false,
    "jupyter": {
     "outputs_hidden": false
    }
   },
   "outputs": [
    {
     "data": {
      "text/plain": [
       "vaccine_matching\n",
       "INFLUE         [67]\n",
       "PNEUMO          [0]\n",
       "TETANU    [873, 31]\n",
       "Name: date, dtype: object"
      ]
     },
     "execution_count": 20,
     "metadata": {},
     "output_type": "execute_result"
    }
   ],
   "source": [
    "vax_df.groupby(\"vaccine_matching\").date.apply(\n",
    "    lambda x: [l.days for l in list(x - x.shift())[1:]])"
   ]
  },
  {
   "cell_type": "markdown",
   "metadata": {},
   "source": [
    "# Medication reminders"
   ]
  },
  {
   "cell_type": "code",
   "execution_count": 21,
   "metadata": {},
   "outputs": [],
   "source": [
    "search_string = \"Medication:\\s+(.*?)\\n+.*?Instructions:\\s+(.*?)\\n+.*?Status:\\s+(.*?)\\n+.*?Refills Remaining:\\s+(.*?)\\nLast Filled On:\\s+(.*?)\\nInitially Ordered On:\\s+(.*?)\\nQuantity:\\s+(.*?)\\nDays Supply:\\s+(.*?)$\"\n",
    "results = re.findall(search_string, full_doc, re.MULTILINE)"
   ]
  },
  {
   "cell_type": "code",
   "execution_count": 22,
   "metadata": {
    "collapsed": false,
    "jupyter": {
     "outputs_hidden": false
    }
   },
   "outputs": [
    {
     "data": {
      "text/plain": [
       "[('ASPIRIN 81MG EC TAB ',\n",
       "  'TAKE ONE TABLET BY MOUTH EVERY DAY ',\n",
       "  'Active',\n",
       "  '3',\n",
       "  '14 Oct 2014',\n",
       "  '14 Oct 2014',\n",
       "  '30',\n",
       "  '30'),\n",
       " ('ASPIRIN 325MG EC TAB ',\n",
       "  'TAKE ONE TABLET BY MOUTH EVERY DAY ',\n",
       "  'Active',\n",
       "  '11',\n",
       "  '24 Sep 2014',\n",
       "  '25 Aug 2014',\n",
       "  '1',\n",
       "  '1'),\n",
       " ('AMLODIPINE BESYLATE 5MG TAB ',\n",
       "  'TAKE ONE-HALF TABLET BY MOUTH EVERY DAY FOR BLOOD PRESSURE ',\n",
       "  'Expired',\n",
       "  '2',\n",
       "  '01 Mar 2013',\n",
       "  '10 Dec 2012',\n",
       "  '45',\n",
       "  '90'),\n",
       " ('DONEPEZIL HCL 5MG TAB ',\n",
       "  'TAKE ONE TABLET BY MOUTH EVERY MORNING ',\n",
       "  'Expired',\n",
       "  '10',\n",
       "  '16 Feb 2013',\n",
       "  '10 Dec 2012',\n",
       "  '30',\n",
       "  '30'),\n",
       " ('HCTZ 25/TRIAMTERENE 37.5MG TAB ',\n",
       "  'TAKE ONE-HALF TABLET (12.5/18.75 MG) BY MOUTH EVERY DAY ',\n",
       "  'Expired',\n",
       "  '3',\n",
       "  '11 Dec 2012',\n",
       "  '10 Dec 2012',\n",
       "  '45',\n",
       "  '90'),\n",
       " ('FLUOXETINE HCL 10MG CAP ',\n",
       "  'TAKE ONE CAPSULE BY MOUTH EVERY MORNING ',\n",
       "  'Expired',\n",
       "  '3',\n",
       "  '11 Dec 2012',\n",
       "  '10 Dec 2012',\n",
       "  '90',\n",
       "  '90'),\n",
       " ('ACCU-CHEK AVIVA (GLUCOSE) TEST STRIP #50 ',\n",
       "  'USE 1 STRIP FOR BLOOD GLUCOSE TESTING AS DIRECTED ',\n",
       "  'Discontinued',\n",
       "  '2',\n",
       "  '09 Jul 2012',\n",
       "  '06 Jul 2012',\n",
       "  '200',\n",
       "  '50'),\n",
       " ('SODIUM CHLORIDE 0.65% SOLN NASAL ',\n",
       "  'SPRAY 2 SPRAYS MOUTH MINUTE FOR 30 DAYS ',\n",
       "  'Discontinued',\n",
       "  '3',\n",
       "  '09 Jul 2012',\n",
       "  '06 Jul 2012',\n",
       "  '10',\n",
       "  '30'),\n",
       " ('NAPROXEN 500MG TAB ',\n",
       "  'TAKE ONE TABLET BY MOUTH TWICE A DAY -- TAKE WITH FOOD IF GI ',\n",
       "  'Discontinued',\n",
       "  '3',\n",
       "  '09 Jul 2012',\n",
       "  '06 Jul 2012',\n",
       "  '60',\n",
       "  '90'),\n",
       " ('METFORMIN HCL 1000MG TAB ',\n",
       "  'TAKE ONE TABLET BY MOUTH TWICE DAILY WITH MEALS FOR DIABETES. ',\n",
       "  'Discontinued',\n",
       "  '2',\n",
       "  '09 Jul 2012',\n",
       "  '06 Jul 2012',\n",
       "  '180',\n",
       "  '90'),\n",
       " ('LISINOPRIL 10MG TAB ',\n",
       "  'TAKE ONE TABLET BY MOUTH EVERY DAY FOR BLOOD PRESSURE ',\n",
       "  'Discontinued',\n",
       "  '3',\n",
       "  '09 Jul 2012',\n",
       "  '06 Jul 2012',\n",
       "  '30',\n",
       "  '30'),\n",
       " ('DEXAMETHASONE 4MG TAB ',\n",
       "  'TAKE TWO TABLETS BY MOUTH HOUR FOR 2 DAYS -- TAKE WITH FOOD -- ',\n",
       "  'Discontinued',\n",
       "  '2',\n",
       "  '09 Jul 2012',\n",
       "  '06 Jul 2012',\n",
       "  '96',\n",
       "  '30'),\n",
       " ('ACCU-CHEK AVIVA (GLUCOSE) TEST STRIP #50 ',\n",
       "  'USE 1 STRIP FOR BLOOD GLUCOSE TESTING AS DIRECTED ',\n",
       "  'Expired',\n",
       "  '1',\n",
       "  '05 Dec 2011',\n",
       "  '03 Jun 2011',\n",
       "  '200',\n",
       "  '50'),\n",
       " ('SODIUM CHLORIDE 0.65% SOLN NASAL ',\n",
       "  'SPRAY 2 SPRAYS MOUTH MINUTE FOR 30 DAYS ',\n",
       "  'Expired',\n",
       "  '3',\n",
       "  '03 Jun 2011',\n",
       "  '03 Dec 2010',\n",
       "  '10',\n",
       "  '30'),\n",
       " ('METFORMIN HCL 1000MG TAB ',\n",
       "  'TAKE ONE TABLET BY MOUTH TWICE DAILY WITH MEALS FOR DIABETES. ',\n",
       "  'Expired',\n",
       "  '2',\n",
       "  '03 Jun 2011',\n",
       "  '03 Jun 2011',\n",
       "  '180',\n",
       "  '90'),\n",
       " ('NAPROXEN 500MG TAB ',\n",
       "  'TAKE ONE TABLET BY MOUTH TWICE A DAY -- TAKE WITH FOOD IF GI ',\n",
       "  'Expired',\n",
       "  '3',\n",
       "  '03 Jun 2011',\n",
       "  '03 Dec 2010',\n",
       "  '60',\n",
       "  '90'),\n",
       " ('DEXAMETHASONE 4MG TAB ',\n",
       "  'TAKE TWO TABLETS BY MOUTH HOUR FOR 2 DAYS -- TAKE WITH FOOD -- ',\n",
       "  'Expired',\n",
       "  '2',\n",
       "  '03 Jun 2011',\n",
       "  '03 Dec 2010',\n",
       "  '96',\n",
       "  '30'),\n",
       " ('LISINOPRIL 10MG TAB ',\n",
       "  'TAKE ONE TABLET BY MOUTH EVERY DAY FOR BLOOD PRESSURE ',\n",
       "  'Expired',\n",
       "  '3',\n",
       "  '03 Jun 2011',\n",
       "  '03 Dec 2010',\n",
       "  '30',\n",
       "  '30')]"
      ]
     },
     "execution_count": 22,
     "metadata": {},
     "output_type": "execute_result"
    }
   ],
   "source": [
    "results"
   ]
  },
  {
   "cell_type": "code",
   "execution_count": 23,
   "metadata": {
    "collapsed": false,
    "jupyter": {
     "outputs_hidden": false
    }
   },
   "outputs": [],
   "source": [
    "medications = pd.DataFrame(results, columns=['medication', 'directions', 'status',\n",
    "                                             'refills_remaining', 'last_filled_on', 'initially_ordered_on', 'quantity', 'days_supply'])\n",
    "medications = medications.apply(lambda x: x.astype(str).str.upper())"
   ]
  },
  {
   "cell_type": "code",
   "execution_count": 24,
   "metadata": {
    "collapsed": false,
    "jupyter": {
     "outputs_hidden": false
    }
   },
   "outputs": [
    {
     "data": {
      "text/html": [
       "<div>\n",
       "<style scoped>\n",
       "    .dataframe tbody tr th:only-of-type {\n",
       "        vertical-align: middle;\n",
       "    }\n",
       "\n",
       "    .dataframe tbody tr th {\n",
       "        vertical-align: top;\n",
       "    }\n",
       "\n",
       "    .dataframe thead th {\n",
       "        text-align: right;\n",
       "    }\n",
       "</style>\n",
       "<table border=\"1\" class=\"dataframe\">\n",
       "  <thead>\n",
       "    <tr style=\"text-align: right;\">\n",
       "      <th></th>\n",
       "      <th>medication</th>\n",
       "      <th>directions</th>\n",
       "      <th>status</th>\n",
       "      <th>refills_remaining</th>\n",
       "      <th>last_filled_on</th>\n",
       "      <th>initially_ordered_on</th>\n",
       "      <th>quantity</th>\n",
       "      <th>days_supply</th>\n",
       "    </tr>\n",
       "  </thead>\n",
       "  <tbody>\n",
       "    <tr>\n",
       "      <th>0</th>\n",
       "      <td>ASPIRIN 81MG EC TAB</td>\n",
       "      <td>TAKE ONE TABLET BY MOUTH EVERY DAY</td>\n",
       "      <td>ACTIVE</td>\n",
       "      <td>3</td>\n",
       "      <td>14 OCT 2014</td>\n",
       "      <td>14 OCT 2014</td>\n",
       "      <td>30</td>\n",
       "      <td>30</td>\n",
       "    </tr>\n",
       "    <tr>\n",
       "      <th>1</th>\n",
       "      <td>ASPIRIN 325MG EC TAB</td>\n",
       "      <td>TAKE ONE TABLET BY MOUTH EVERY DAY</td>\n",
       "      <td>ACTIVE</td>\n",
       "      <td>11</td>\n",
       "      <td>24 SEP 2014</td>\n",
       "      <td>25 AUG 2014</td>\n",
       "      <td>1</td>\n",
       "      <td>1</td>\n",
       "    </tr>\n",
       "    <tr>\n",
       "      <th>2</th>\n",
       "      <td>AMLODIPINE BESYLATE 5MG TAB</td>\n",
       "      <td>TAKE ONE-HALF TABLET BY MOUTH EVERY DAY FOR BL...</td>\n",
       "      <td>EXPIRED</td>\n",
       "      <td>2</td>\n",
       "      <td>01 MAR 2013</td>\n",
       "      <td>10 DEC 2012</td>\n",
       "      <td>45</td>\n",
       "      <td>90</td>\n",
       "    </tr>\n",
       "  </tbody>\n",
       "</table>\n",
       "</div>"
      ],
      "text/plain": [
       "                     medication  \\\n",
       "0          ASPIRIN 81MG EC TAB    \n",
       "1         ASPIRIN 325MG EC TAB    \n",
       "2  AMLODIPINE BESYLATE 5MG TAB    \n",
       "\n",
       "                                          directions   status  \\\n",
       "0                TAKE ONE TABLET BY MOUTH EVERY DAY    ACTIVE   \n",
       "1                TAKE ONE TABLET BY MOUTH EVERY DAY    ACTIVE   \n",
       "2  TAKE ONE-HALF TABLET BY MOUTH EVERY DAY FOR BL...  EXPIRED   \n",
       "\n",
       "  refills_remaining last_filled_on initially_ordered_on quantity days_supply  \n",
       "0                 3    14 OCT 2014          14 OCT 2014       30          30  \n",
       "1                11    24 SEP 2014          25 AUG 2014        1           1  \n",
       "2                 2    01 MAR 2013          10 DEC 2012       45          90  "
      ]
     },
     "execution_count": 24,
     "metadata": {},
     "output_type": "execute_result"
    }
   ],
   "source": [
    "medications.head(3)"
   ]
  },
  {
   "cell_type": "code",
   "execution_count": 25,
   "metadata": {
    "collapsed": false,
    "jupyter": {
     "outputs_hidden": false
    }
   },
   "outputs": [
    {
     "data": {
      "text/html": [
       "<div>\n",
       "<style scoped>\n",
       "    .dataframe tbody tr th:only-of-type {\n",
       "        vertical-align: middle;\n",
       "    }\n",
       "\n",
       "    .dataframe tbody tr th {\n",
       "        vertical-align: top;\n",
       "    }\n",
       "\n",
       "    .dataframe thead th {\n",
       "        text-align: right;\n",
       "    }\n",
       "</style>\n",
       "<table border=\"1\" class=\"dataframe\">\n",
       "  <thead>\n",
       "    <tr style=\"text-align: right;\">\n",
       "      <th></th>\n",
       "      <th>medication</th>\n",
       "      <th>directions</th>\n",
       "      <th>status</th>\n",
       "      <th>refills_remaining</th>\n",
       "      <th>last_filled_on</th>\n",
       "      <th>initially_ordered_on</th>\n",
       "      <th>quantity</th>\n",
       "      <th>days_supply</th>\n",
       "    </tr>\n",
       "  </thead>\n",
       "  <tbody>\n",
       "    <tr>\n",
       "      <th>0</th>\n",
       "      <td>ASPIRIN 81MG EC TAB</td>\n",
       "      <td>TAKE ONE TABLET BY MOUTH EVERY DAY</td>\n",
       "      <td>ACTIVE</td>\n",
       "      <td>3</td>\n",
       "      <td>14 OCT 2014</td>\n",
       "      <td>14 OCT 2014</td>\n",
       "      <td>30</td>\n",
       "      <td>30</td>\n",
       "    </tr>\n",
       "    <tr>\n",
       "      <th>1</th>\n",
       "      <td>ASPIRIN 325MG EC TAB</td>\n",
       "      <td>TAKE ONE TABLET BY MOUTH EVERY DAY</td>\n",
       "      <td>ACTIVE</td>\n",
       "      <td>11</td>\n",
       "      <td>24 SEP 2014</td>\n",
       "      <td>25 AUG 2014</td>\n",
       "      <td>1</td>\n",
       "      <td>1</td>\n",
       "    </tr>\n",
       "  </tbody>\n",
       "</table>\n",
       "</div>"
      ],
      "text/plain": [
       "              medication                           directions  status  \\\n",
       "0   ASPIRIN 81MG EC TAB   TAKE ONE TABLET BY MOUTH EVERY DAY   ACTIVE   \n",
       "1  ASPIRIN 325MG EC TAB   TAKE ONE TABLET BY MOUTH EVERY DAY   ACTIVE   \n",
       "\n",
       "  refills_remaining last_filled_on initially_ordered_on quantity days_supply  \n",
       "0                 3    14 OCT 2014          14 OCT 2014       30          30  \n",
       "1                11    24 SEP 2014          25 AUG 2014        1           1  "
      ]
     },
     "execution_count": 25,
     "metadata": {},
     "output_type": "execute_result"
    }
   ],
   "source": [
    "medications[medications.status == 'ACTIVE']"
   ]
  },
  {
   "cell_type": "code",
   "execution_count": 26,
   "metadata": {
    "collapsed": false,
    "jupyter": {
     "outputs_hidden": false
    }
   },
   "outputs": [
    {
     "data": {
      "text/plain": [
       "'DAY'"
      ]
     },
     "execution_count": 26,
     "metadata": {},
     "output_type": "execute_result"
    }
   ],
   "source": [
    "re.findall(\"EVERY\\s(.*)\", \"TAKE ONE TABLET BY MOUTH EVERY DAY\")[0]"
   ]
  },
  {
   "cell_type": "code",
   "execution_count": 27,
   "metadata": {
    "collapsed": false,
    "jupyter": {
     "outputs_hidden": false
    }
   },
   "outputs": [],
   "source": [
    "medications['time_delta'] = medications.directions.apply(\n",
    "    lambda x: re.findall(\"EVERY\\s(.*)\", x))"
   ]
  },
  {
   "cell_type": "code",
   "execution_count": 28,
   "metadata": {
    "collapsed": false,
    "jupyter": {
     "outputs_hidden": false
    }
   },
   "outputs": [
    {
     "data": {
      "text/html": [
       "<div>\n",
       "<style scoped>\n",
       "    .dataframe tbody tr th:only-of-type {\n",
       "        vertical-align: middle;\n",
       "    }\n",
       "\n",
       "    .dataframe tbody tr th {\n",
       "        vertical-align: top;\n",
       "    }\n",
       "\n",
       "    .dataframe thead th {\n",
       "        text-align: right;\n",
       "    }\n",
       "</style>\n",
       "<table border=\"1\" class=\"dataframe\">\n",
       "  <thead>\n",
       "    <tr style=\"text-align: right;\">\n",
       "      <th></th>\n",
       "      <th>directions</th>\n",
       "      <th>time_delta</th>\n",
       "    </tr>\n",
       "  </thead>\n",
       "  <tbody>\n",
       "    <tr>\n",
       "      <th>0</th>\n",
       "      <td>TAKE ONE TABLET BY MOUTH EVERY DAY</td>\n",
       "      <td>[DAY ]</td>\n",
       "    </tr>\n",
       "    <tr>\n",
       "      <th>1</th>\n",
       "      <td>TAKE ONE TABLET BY MOUTH EVERY DAY</td>\n",
       "      <td>[DAY ]</td>\n",
       "    </tr>\n",
       "  </tbody>\n",
       "</table>\n",
       "</div>"
      ],
      "text/plain": [
       "                            directions time_delta\n",
       "0  TAKE ONE TABLET BY MOUTH EVERY DAY      [DAY ]\n",
       "1  TAKE ONE TABLET BY MOUTH EVERY DAY      [DAY ]"
      ]
     },
     "execution_count": 28,
     "metadata": {},
     "output_type": "execute_result"
    }
   ],
   "source": [
    "medications[medications.status == 'ACTIVE'][['directions', 'time_delta']]"
   ]
  },
  {
   "cell_type": "code",
   "execution_count": 29,
   "metadata": {
    "collapsed": false,
    "jupyter": {
     "outputs_hidden": false
    }
   },
   "outputs": [
    {
     "data": {
      "text/plain": [
       "DatetimeIndex(['2020-12-31 21:57:07.001699', '2021-01-01 21:57:07.001699',\n",
       "               '2021-01-02 21:57:07.001699', '2021-01-03 21:57:07.001699',\n",
       "               '2021-01-04 21:57:07.001699', '2021-01-05 21:57:07.001699',\n",
       "               '2021-01-06 21:57:07.001699', '2021-01-07 21:57:07.001699',\n",
       "               '2021-01-08 21:57:07.001699', '2021-01-09 21:57:07.001699',\n",
       "               '2021-01-10 21:57:07.001699', '2021-01-11 21:57:07.001699',\n",
       "               '2021-01-12 21:57:07.001699', '2021-01-13 21:57:07.001699',\n",
       "               '2021-01-14 21:57:07.001699', '2021-01-15 21:57:07.001699',\n",
       "               '2021-01-16 21:57:07.001699', '2021-01-17 21:57:07.001699',\n",
       "               '2021-01-18 21:57:07.001699', '2021-01-19 21:57:07.001699',\n",
       "               '2021-01-20 21:57:07.001699', '2021-01-21 21:57:07.001699',\n",
       "               '2021-01-22 21:57:07.001699', '2021-01-23 21:57:07.001699',\n",
       "               '2021-01-24 21:57:07.001699', '2021-01-25 21:57:07.001699',\n",
       "               '2021-01-26 21:57:07.001699', '2021-01-27 21:57:07.001699',\n",
       "               '2021-01-28 21:57:07.001699', '2021-01-29 21:57:07.001699'],\n",
       "              dtype='datetime64[ns]', freq='D')"
      ]
     },
     "execution_count": 29,
     "metadata": {},
     "output_type": "execute_result"
    }
   ],
   "source": [
    "pd.date_range('now', periods=30, freq='D')"
   ]
  },
  {
   "cell_type": "code",
   "execution_count": 30,
   "metadata": {
    "collapsed": false,
    "jupyter": {
     "outputs_hidden": false
    }
   },
   "outputs": [
    {
     "data": {
      "text/plain": [
       "DatetimeIndex(['2020-12-31 21:57:07.008363', '2021-01-01 09:57:07.008363',\n",
       "               '2021-01-01 21:57:07.008363', '2021-01-02 09:57:07.008363',\n",
       "               '2021-01-02 21:57:07.008363', '2021-01-03 09:57:07.008363',\n",
       "               '2021-01-03 21:57:07.008363', '2021-01-04 09:57:07.008363',\n",
       "               '2021-01-04 21:57:07.008363', '2021-01-05 09:57:07.008363'],\n",
       "              dtype='datetime64[ns]', freq='12H')"
      ]
     },
     "execution_count": 30,
     "metadata": {},
     "output_type": "execute_result"
    }
   ],
   "source": [
    "pd.date_range('now', freq=\"12H\", periods=10)"
   ]
  },
  {
   "cell_type": "code",
   "execution_count": null,
   "metadata": {},
   "outputs": [],
   "source": []
  }
 ],
 "metadata": {
  "anaconda-cloud": {},
  "kernelspec": {
   "display_name": "Python 3",
   "language": "python",
   "name": "python3"
  },
  "language_info": {
   "codemirror_mode": {
    "name": "ipython",
    "version": 3
   },
   "file_extension": ".py",
   "mimetype": "text/x-python",
   "name": "python",
   "nbconvert_exporter": "python",
   "pygments_lexer": "ipython3",
   "version": "3.8.0"
  }
 },
 "nbformat": 4,
 "nbformat_minor": 4
}
