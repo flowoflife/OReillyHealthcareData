{
 "cells": [
  {
   "cell_type": "code",
   "execution_count": 1,
   "metadata": {},
   "outputs": [],
   "source": [
    "import pandas as pd"
   ]
  },
  {
   "cell_type": "code",
   "execution_count": 2,
   "metadata": {
    "collapsed": false,
    "jupyter": {
     "outputs_hidden": false
    }
   },
   "outputs": [],
   "source": [
    "data = pd.DataFrame({\n",
    "    'first_name': [\"Diana\", \"La'Toya\", \"Anne Marie\", \"Billy-Jean\"],\n",
    "    'last_name': [\"Milbank-Stapleton\", \"O'Shaughnessy\", \"Brown\", \"Queen\"],\n",
    "    'location': ['NYC', 'NYC', 'Chicago', 'Chicago'],\n",
    "    'med_timestamp': [1495397700, 1495721700, 1496341020, 1497286980],\n",
    "    'distance_walked': [1.4, 3.7, 11.3, 5.1],\n",
    "    'distance_units': ['mi', 'mi', 'km', 'mi']\n",
    "})"
   ]
  },
  {
   "cell_type": "markdown",
   "metadata": {},
   "source": [
    "## Remove alphanumeric case dependencies"
   ]
  },
  {
   "cell_type": "code",
   "execution_count": 3,
   "metadata": {
    "collapsed": false,
    "jupyter": {
     "outputs_hidden": false
    }
   },
   "outputs": [],
   "source": [
    "data.first_name = data.first_name.apply(lambda x: x.upper())\n",
    "data.last_name = data.last_name.apply(lambda x: x.upper())"
   ]
  },
  {
   "cell_type": "code",
   "execution_count": 4,
   "metadata": {},
   "outputs": [],
   "source": [
    "# instead of making an exhaustive list of characters to remove, require alphanumeric\n",
    "def alphanum(s):\n",
    "    return(''.join(lett for lett in s if lett.isalnum()))"
   ]
  },
  {
   "cell_type": "code",
   "execution_count": 5,
   "metadata": {},
   "outputs": [],
   "source": [
    "data.first_name = data.first_name.apply(lambda x: alphanum(x.upper()))\n",
    "data.last_name = data.last_name.apply(lambda x: alphanum(x.upper()))"
   ]
  },
  {
   "cell_type": "code",
   "execution_count": 6,
   "metadata": {
    "collapsed": false,
    "jupyter": {
     "outputs_hidden": false
    }
   },
   "outputs": [
    {
     "data": {
      "text/html": [
       "<div>\n",
       "<style scoped>\n",
       "    .dataframe tbody tr th:only-of-type {\n",
       "        vertical-align: middle;\n",
       "    }\n",
       "\n",
       "    .dataframe tbody tr th {\n",
       "        vertical-align: top;\n",
       "    }\n",
       "\n",
       "    .dataframe thead th {\n",
       "        text-align: right;\n",
       "    }\n",
       "</style>\n",
       "<table border=\"1\" class=\"dataframe\">\n",
       "  <thead>\n",
       "    <tr style=\"text-align: right;\">\n",
       "      <th></th>\n",
       "      <th>first_name</th>\n",
       "      <th>last_name</th>\n",
       "      <th>location</th>\n",
       "      <th>med_timestamp</th>\n",
       "      <th>distance_walked</th>\n",
       "      <th>distance_units</th>\n",
       "    </tr>\n",
       "  </thead>\n",
       "  <tbody>\n",
       "    <tr>\n",
       "      <th>0</th>\n",
       "      <td>DIANA</td>\n",
       "      <td>MILBANKSTAPLETON</td>\n",
       "      <td>NYC</td>\n",
       "      <td>1495397700</td>\n",
       "      <td>1.4</td>\n",
       "      <td>mi</td>\n",
       "    </tr>\n",
       "    <tr>\n",
       "      <th>1</th>\n",
       "      <td>LATOYA</td>\n",
       "      <td>OSHAUGHNESSY</td>\n",
       "      <td>NYC</td>\n",
       "      <td>1495721700</td>\n",
       "      <td>3.7</td>\n",
       "      <td>mi</td>\n",
       "    </tr>\n",
       "    <tr>\n",
       "      <th>2</th>\n",
       "      <td>ANNEMARIE</td>\n",
       "      <td>BROWN</td>\n",
       "      <td>Chicago</td>\n",
       "      <td>1496341020</td>\n",
       "      <td>11.3</td>\n",
       "      <td>km</td>\n",
       "    </tr>\n",
       "    <tr>\n",
       "      <th>3</th>\n",
       "      <td>BILLYJEAN</td>\n",
       "      <td>QUEEN</td>\n",
       "      <td>Chicago</td>\n",
       "      <td>1497286980</td>\n",
       "      <td>5.1</td>\n",
       "      <td>mi</td>\n",
       "    </tr>\n",
       "  </tbody>\n",
       "</table>\n",
       "</div>"
      ],
      "text/plain": [
       "  first_name         last_name location  med_timestamp  distance_walked  \\\n",
       "0      DIANA  MILBANKSTAPLETON      NYC     1495397700              1.4   \n",
       "1     LATOYA      OSHAUGHNESSY      NYC     1495721700              3.7   \n",
       "2  ANNEMARIE             BROWN  Chicago     1496341020             11.3   \n",
       "3  BILLYJEAN             QUEEN  Chicago     1497286980              5.1   \n",
       "\n",
       "  distance_units  \n",
       "0             mi  \n",
       "1             mi  \n",
       "2             km  \n",
       "3             mi  "
      ]
     },
     "execution_count": 6,
     "metadata": {},
     "output_type": "execute_result"
    }
   ],
   "source": [
    "data.head()"
   ]
  },
  {
   "cell_type": "markdown",
   "metadata": {},
   "source": [
    "## Convert timestamps to local time"
   ]
  },
  {
   "cell_type": "code",
   "execution_count": 7,
   "metadata": {},
   "outputs": [],
   "source": [
    "location_tzs = {\n",
    "    'Chicago': 'America/Chicago',\n",
    "    'NYC': 'America/New_York'\n",
    "}"
   ]
  },
  {
   "cell_type": "code",
   "execution_count": 8,
   "metadata": {
    "collapsed": false,
    "jupyter": {
     "outputs_hidden": false
    }
   },
   "outputs": [
    {
     "data": {
      "text/html": [
       "<div>\n",
       "<style scoped>\n",
       "    .dataframe tbody tr th:only-of-type {\n",
       "        vertical-align: middle;\n",
       "    }\n",
       "\n",
       "    .dataframe tbody tr th {\n",
       "        vertical-align: top;\n",
       "    }\n",
       "\n",
       "    .dataframe thead th {\n",
       "        text-align: right;\n",
       "    }\n",
       "</style>\n",
       "<table border=\"1\" class=\"dataframe\">\n",
       "  <thead>\n",
       "    <tr style=\"text-align: right;\">\n",
       "      <th></th>\n",
       "      <th>first_name</th>\n",
       "      <th>last_name</th>\n",
       "      <th>location</th>\n",
       "      <th>med_timestamp</th>\n",
       "      <th>distance_walked</th>\n",
       "      <th>distance_units</th>\n",
       "    </tr>\n",
       "  </thead>\n",
       "  <tbody>\n",
       "    <tr>\n",
       "      <th>0</th>\n",
       "      <td>DIANA</td>\n",
       "      <td>MILBANKSTAPLETON</td>\n",
       "      <td>NYC</td>\n",
       "      <td>1495397700</td>\n",
       "      <td>1.4</td>\n",
       "      <td>mi</td>\n",
       "    </tr>\n",
       "    <tr>\n",
       "      <th>1</th>\n",
       "      <td>LATOYA</td>\n",
       "      <td>OSHAUGHNESSY</td>\n",
       "      <td>NYC</td>\n",
       "      <td>1495721700</td>\n",
       "      <td>3.7</td>\n",
       "      <td>mi</td>\n",
       "    </tr>\n",
       "    <tr>\n",
       "      <th>2</th>\n",
       "      <td>ANNEMARIE</td>\n",
       "      <td>BROWN</td>\n",
       "      <td>Chicago</td>\n",
       "      <td>1496341020</td>\n",
       "      <td>11.3</td>\n",
       "      <td>km</td>\n",
       "    </tr>\n",
       "    <tr>\n",
       "      <th>3</th>\n",
       "      <td>BILLYJEAN</td>\n",
       "      <td>QUEEN</td>\n",
       "      <td>Chicago</td>\n",
       "      <td>1497286980</td>\n",
       "      <td>5.1</td>\n",
       "      <td>mi</td>\n",
       "    </tr>\n",
       "  </tbody>\n",
       "</table>\n",
       "</div>"
      ],
      "text/plain": [
       "  first_name         last_name location  med_timestamp  distance_walked  \\\n",
       "0      DIANA  MILBANKSTAPLETON      NYC     1495397700              1.4   \n",
       "1     LATOYA      OSHAUGHNESSY      NYC     1495721700              3.7   \n",
       "2  ANNEMARIE             BROWN  Chicago     1496341020             11.3   \n",
       "3  BILLYJEAN             QUEEN  Chicago     1497286980              5.1   \n",
       "\n",
       "  distance_units  \n",
       "0             mi  \n",
       "1             mi  \n",
       "2             km  \n",
       "3             mi  "
      ]
     },
     "execution_count": 8,
     "metadata": {},
     "output_type": "execute_result"
    }
   ],
   "source": [
    "data.head()"
   ]
  },
  {
   "cell_type": "code",
   "execution_count": 9,
   "metadata": {
    "collapsed": false,
    "jupyter": {
     "outputs_hidden": false
    }
   },
   "outputs": [],
   "source": [
    "import datetime\n",
    "\n",
    "def process_row(r):\n",
    "    t = datetime.datetime.utcfromtimestamp(r['med_timestamp'])\n",
    "    t2 = pd.Timestamp(t)\n",
    "    t2 = t2.tz_localize('UTC')\n",
    "    t2 = t2.tz_convert(location_tzs[r['location']])\n",
    "    return(t2)"
   ]
  },
  {
   "cell_type": "code",
   "execution_count": 10,
   "metadata": {
    "collapsed": false,
    "jupyter": {
     "outputs_hidden": false
    }
   },
   "outputs": [],
   "source": [
    "data['actual_timestamp'] = data.apply(process_row, axis=1)"
   ]
  },
  {
   "cell_type": "code",
   "execution_count": 11,
   "metadata": {
    "collapsed": false,
    "jupyter": {
     "outputs_hidden": false
    }
   },
   "outputs": [
    {
     "data": {
      "text/html": [
       "<div>\n",
       "<style scoped>\n",
       "    .dataframe tbody tr th:only-of-type {\n",
       "        vertical-align: middle;\n",
       "    }\n",
       "\n",
       "    .dataframe tbody tr th {\n",
       "        vertical-align: top;\n",
       "    }\n",
       "\n",
       "    .dataframe thead th {\n",
       "        text-align: right;\n",
       "    }\n",
       "</style>\n",
       "<table border=\"1\" class=\"dataframe\">\n",
       "  <thead>\n",
       "    <tr style=\"text-align: right;\">\n",
       "      <th></th>\n",
       "      <th>first_name</th>\n",
       "      <th>last_name</th>\n",
       "      <th>location</th>\n",
       "      <th>med_timestamp</th>\n",
       "      <th>distance_walked</th>\n",
       "      <th>distance_units</th>\n",
       "      <th>actual_timestamp</th>\n",
       "    </tr>\n",
       "  </thead>\n",
       "  <tbody>\n",
       "    <tr>\n",
       "      <th>0</th>\n",
       "      <td>DIANA</td>\n",
       "      <td>MILBANKSTAPLETON</td>\n",
       "      <td>NYC</td>\n",
       "      <td>1495397700</td>\n",
       "      <td>1.4</td>\n",
       "      <td>mi</td>\n",
       "      <td>2017-05-21 16:15:00-04:00</td>\n",
       "    </tr>\n",
       "    <tr>\n",
       "      <th>1</th>\n",
       "      <td>LATOYA</td>\n",
       "      <td>OSHAUGHNESSY</td>\n",
       "      <td>NYC</td>\n",
       "      <td>1495721700</td>\n",
       "      <td>3.7</td>\n",
       "      <td>mi</td>\n",
       "      <td>2017-05-25 10:15:00-04:00</td>\n",
       "    </tr>\n",
       "    <tr>\n",
       "      <th>2</th>\n",
       "      <td>ANNEMARIE</td>\n",
       "      <td>BROWN</td>\n",
       "      <td>Chicago</td>\n",
       "      <td>1496341020</td>\n",
       "      <td>11.3</td>\n",
       "      <td>km</td>\n",
       "      <td>2017-06-01 13:17:00-05:00</td>\n",
       "    </tr>\n",
       "    <tr>\n",
       "      <th>3</th>\n",
       "      <td>BILLYJEAN</td>\n",
       "      <td>QUEEN</td>\n",
       "      <td>Chicago</td>\n",
       "      <td>1497286980</td>\n",
       "      <td>5.1</td>\n",
       "      <td>mi</td>\n",
       "      <td>2017-06-12 12:03:00-05:00</td>\n",
       "    </tr>\n",
       "  </tbody>\n",
       "</table>\n",
       "</div>"
      ],
      "text/plain": [
       "  first_name         last_name location  med_timestamp  distance_walked  \\\n",
       "0      DIANA  MILBANKSTAPLETON      NYC     1495397700              1.4   \n",
       "1     LATOYA      OSHAUGHNESSY      NYC     1495721700              3.7   \n",
       "2  ANNEMARIE             BROWN  Chicago     1496341020             11.3   \n",
       "3  BILLYJEAN             QUEEN  Chicago     1497286980              5.1   \n",
       "\n",
       "  distance_units           actual_timestamp  \n",
       "0             mi  2017-05-21 16:15:00-04:00  \n",
       "1             mi  2017-05-25 10:15:00-04:00  \n",
       "2             km  2017-06-01 13:17:00-05:00  \n",
       "3             mi  2017-06-12 12:03:00-05:00  "
      ]
     },
     "execution_count": 11,
     "metadata": {},
     "output_type": "execute_result"
    }
   ],
   "source": [
    "data.head()"
   ]
  },
  {
   "cell_type": "markdown",
   "metadata": {},
   "source": [
    "## Unit conversions"
   ]
  },
  {
   "cell_type": "code",
   "execution_count": 12,
   "metadata": {},
   "outputs": [],
   "source": [
    "# say you want all distances in miles, but you have some holdouts\n",
    "# again we'll process the entire row"
   ]
  },
  {
   "cell_type": "code",
   "execution_count": 13,
   "metadata": {
    "collapsed": false,
    "jupyter": {
     "outputs_hidden": false
    }
   },
   "outputs": [],
   "source": [
    "CONVERSION_FACTOR_KM_TO_MI = .6213\n",
    "def process_row(r):\n",
    "    units = r['distance_units']\n",
    "    value = r['distance_walked']\n",
    "    if r['distance_units'].lower() == 'mi':\n",
    "        pass\n",
    "    elif r['distance_units'].lower() == 'km':\n",
    "        # better to have this as a constant somewhere your\n",
    "        # entire code base can share it\n",
    "        value = value * CONVERSION_FACTOR_KM_TO_MI\n",
    "    return(value)\n",
    "\n",
    "\n",
    "data['miles_walked'] = data.apply(process_row, axis=1)"
   ]
  },
  {
   "cell_type": "code",
   "execution_count": 14,
   "metadata": {
    "collapsed": false,
    "jupyter": {
     "outputs_hidden": false
    }
   },
   "outputs": [
    {
     "data": {
      "text/html": [
       "<div>\n",
       "<style scoped>\n",
       "    .dataframe tbody tr th:only-of-type {\n",
       "        vertical-align: middle;\n",
       "    }\n",
       "\n",
       "    .dataframe tbody tr th {\n",
       "        vertical-align: top;\n",
       "    }\n",
       "\n",
       "    .dataframe thead th {\n",
       "        text-align: right;\n",
       "    }\n",
       "</style>\n",
       "<table border=\"1\" class=\"dataframe\">\n",
       "  <thead>\n",
       "    <tr style=\"text-align: right;\">\n",
       "      <th></th>\n",
       "      <th>first_name</th>\n",
       "      <th>last_name</th>\n",
       "      <th>location</th>\n",
       "      <th>med_timestamp</th>\n",
       "      <th>distance_walked</th>\n",
       "      <th>distance_units</th>\n",
       "      <th>actual_timestamp</th>\n",
       "      <th>miles_walked</th>\n",
       "    </tr>\n",
       "  </thead>\n",
       "  <tbody>\n",
       "    <tr>\n",
       "      <th>0</th>\n",
       "      <td>DIANA</td>\n",
       "      <td>MILBANKSTAPLETON</td>\n",
       "      <td>NYC</td>\n",
       "      <td>1495397700</td>\n",
       "      <td>1.4</td>\n",
       "      <td>mi</td>\n",
       "      <td>2017-05-21 16:15:00-04:00</td>\n",
       "      <td>1.40000</td>\n",
       "    </tr>\n",
       "    <tr>\n",
       "      <th>1</th>\n",
       "      <td>LATOYA</td>\n",
       "      <td>OSHAUGHNESSY</td>\n",
       "      <td>NYC</td>\n",
       "      <td>1495721700</td>\n",
       "      <td>3.7</td>\n",
       "      <td>mi</td>\n",
       "      <td>2017-05-25 10:15:00-04:00</td>\n",
       "      <td>3.70000</td>\n",
       "    </tr>\n",
       "    <tr>\n",
       "      <th>2</th>\n",
       "      <td>ANNEMARIE</td>\n",
       "      <td>BROWN</td>\n",
       "      <td>Chicago</td>\n",
       "      <td>1496341020</td>\n",
       "      <td>11.3</td>\n",
       "      <td>km</td>\n",
       "      <td>2017-06-01 13:17:00-05:00</td>\n",
       "      <td>7.02069</td>\n",
       "    </tr>\n",
       "    <tr>\n",
       "      <th>3</th>\n",
       "      <td>BILLYJEAN</td>\n",
       "      <td>QUEEN</td>\n",
       "      <td>Chicago</td>\n",
       "      <td>1497286980</td>\n",
       "      <td>5.1</td>\n",
       "      <td>mi</td>\n",
       "      <td>2017-06-12 12:03:00-05:00</td>\n",
       "      <td>5.10000</td>\n",
       "    </tr>\n",
       "  </tbody>\n",
       "</table>\n",
       "</div>"
      ],
      "text/plain": [
       "  first_name         last_name location  med_timestamp  distance_walked  \\\n",
       "0      DIANA  MILBANKSTAPLETON      NYC     1495397700              1.4   \n",
       "1     LATOYA      OSHAUGHNESSY      NYC     1495721700              3.7   \n",
       "2  ANNEMARIE             BROWN  Chicago     1496341020             11.3   \n",
       "3  BILLYJEAN             QUEEN  Chicago     1497286980              5.1   \n",
       "\n",
       "  distance_units           actual_timestamp  miles_walked  \n",
       "0             mi  2017-05-21 16:15:00-04:00       1.40000  \n",
       "1             mi  2017-05-25 10:15:00-04:00       3.70000  \n",
       "2             km  2017-06-01 13:17:00-05:00       7.02069  \n",
       "3             mi  2017-06-12 12:03:00-05:00       5.10000  "
      ]
     },
     "execution_count": 14,
     "metadata": {},
     "output_type": "execute_result"
    }
   ],
   "source": [
    "data.head()"
   ]
  },
  {
   "cell_type": "markdown",
   "metadata": {},
   "source": [
    "## Look at your data"
   ]
  },
  {
   "cell_type": "code",
   "execution_count": 15,
   "metadata": {},
   "outputs": [],
   "source": [
    "# think about how you got your data and\n",
    "# what mistakes people are likely to make"
   ]
  },
  {
   "cell_type": "code",
   "execution_count": 16,
   "metadata": {},
   "outputs": [],
   "source": [
    "# hint: bimodal plots are a good tipoff\n",
    "# as are values that are outliers by an order of magnitude under/over"
   ]
  },
  {
   "cell_type": "code",
   "execution_count": 17,
   "metadata": {},
   "outputs": [],
   "source": [
    "# also again your user interface, looking for likely mistakes\n",
    "# talk to support folks or clinicians and ask what mistakes they notice"
   ]
  },
  {
   "cell_type": "code",
   "execution_count": null,
   "metadata": {},
   "outputs": [],
   "source": []
  }
 ],
 "metadata": {
  "anaconda-cloud": {},
  "kernelspec": {
   "display_name": "Python 3",
   "language": "python",
   "name": "python3"
  },
  "language_info": {
   "codemirror_mode": {
    "name": "ipython",
    "version": 3
   },
   "file_extension": ".py",
   "mimetype": "text/x-python",
   "name": "python",
   "nbconvert_exporter": "python",
   "pygments_lexer": "ipython3",
   "version": "3.8.0"
  }
 },
 "nbformat": 4,
 "nbformat_minor": 4
}
